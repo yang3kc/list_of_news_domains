{
 "cells": [
  {
   "cell_type": "code",
   "execution_count": 1,
   "id": "d06d5fd1-5c74-4165-b50a-46e793c47766",
   "metadata": {},
   "outputs": [],
   "source": [
    "import pandas as pd\n",
    "from collections import Counter"
   ]
  },
  {
   "cell_type": "code",
   "execution_count": 3,
   "id": "ba17a6ed-9b17-40c2-9814-cb843b7e87fa",
   "metadata": {},
   "outputs": [],
   "source": [
    "news_domains_df = pd.read_csv(\"../data/output/news_domains.csv\")"
   ]
  },
  {
   "cell_type": "code",
   "execution_count": 52,
   "id": "1c4b771b-03ef-442d-a9ff-0bddb81cec4b",
   "metadata": {},
   "outputs": [],
   "source": [
    "new_news_domains_df = pd.read_csv(\"../data/output/news_domains.csv\")"
   ]
  },
  {
   "cell_type": "code",
   "execution_count": 53,
   "id": "e6701d86-dc41-4a0f-8149-513c459b95fb",
   "metadata": {},
   "outputs": [],
   "source": [
    "def n_dots(domain):\n",
    "    return Counter(domain)['.']"
   ]
  },
  {
   "cell_type": "code",
   "execution_count": 12,
   "id": "7d05cfb1-f891-4b19-9899-2d2e1f5c45ee",
   "metadata": {},
   "outputs": [],
   "source": [
    "news_domains_df['n_dots'] = news_domains_df.domain.apply(n_dots)"
   ]
  },
  {
   "cell_type": "code",
   "execution_count": 54,
   "id": "17494d14-2af1-4810-8c99-660e202d3adc",
   "metadata": {},
   "outputs": [],
   "source": [
    "new_news_domains_df['n_dots'] = new_news_domains_df.domain.apply(n_dots)"
   ]
  },
  {
   "cell_type": "code",
   "execution_count": 55,
   "id": "89e9952c-0117-42a9-be7c-36845ba85703",
   "metadata": {},
   "outputs": [
    {
     "data": {
      "text/plain": [
       "n_dots\n",
       "1    19895\n",
       "2     1460\n",
       "3      108\n",
       "0       19\n",
       "4        6\n",
       "5        1\n",
       "Name: count, dtype: int64"
      ]
     },
     "execution_count": 55,
     "metadata": {},
     "output_type": "execute_result"
    }
   ],
   "source": [
    "news_domains_df.n_dots.value_counts()"
   ]
  },
  {
   "cell_type": "code",
   "execution_count": 56,
   "id": "99684bd2-d3a5-48d0-b867-b10fa4c1e75f",
   "metadata": {},
   "outputs": [
    {
     "data": {
      "text/plain": [
       "n_dots\n",
       "1    19895\n",
       "2     1460\n",
       "3      108\n",
       "4        6\n",
       "5        1\n",
       "Name: count, dtype: int64"
      ]
     },
     "execution_count": 56,
     "metadata": {},
     "output_type": "execute_result"
    }
   ],
   "source": [
    "new_news_domains_df.n_dots.value_counts()"
   ]
  },
  {
   "cell_type": "code",
   "execution_count": 59,
   "id": "df648f09-46f8-48da-b30b-38119035c6b1",
   "metadata": {},
   "outputs": [
    {
     "data": {
      "text/html": [
       "<div>\n",
       "<style scoped>\n",
       "    .dataframe tbody tr th:only-of-type {\n",
       "        vertical-align: middle;\n",
       "    }\n",
       "\n",
       "    .dataframe tbody tr th {\n",
       "        vertical-align: top;\n",
       "    }\n",
       "\n",
       "    .dataframe thead th {\n",
       "        text-align: right;\n",
       "    }\n",
       "</style>\n",
       "<table border=\"1\" class=\"dataframe\">\n",
       "  <thead>\n",
       "    <tr style=\"text-align: right;\">\n",
       "      <th></th>\n",
       "      <th>domain</th>\n",
       "      <th>n_dots</th>\n",
       "    </tr>\n",
       "  </thead>\n",
       "  <tbody>\n",
       "    <tr>\n",
       "      <th>10338</th>\n",
       "      <td>personaldefenseworld.com.via.snip.ly</td>\n",
       "      <td>4</td>\n",
       "    </tr>\n",
       "    <tr>\n",
       "      <th>16398</th>\n",
       "      <td>www.ctn.state.ct.us</td>\n",
       "      <td>4</td>\n",
       "    </tr>\n",
       "    <tr>\n",
       "      <th>16756</th>\n",
       "      <td>www.dobbins.afrc.af.mil</td>\n",
       "      <td>4</td>\n",
       "    </tr>\n",
       "    <tr>\n",
       "      <th>18267</th>\n",
       "      <td>www.youngstown.afrc.af.mil</td>\n",
       "      <td>4</td>\n",
       "    </tr>\n",
       "    <tr>\n",
       "      <th>18502</th>\n",
       "      <td>www.apgnews.apg.army.mil</td>\n",
       "      <td>4</td>\n",
       "    </tr>\n",
       "    <tr>\n",
       "      <th>18644</th>\n",
       "      <td>www.westover.afrc.af.mil</td>\n",
       "      <td>4</td>\n",
       "    </tr>\n",
       "  </tbody>\n",
       "</table>\n",
       "</div>"
      ],
      "text/plain": [
       "                                     domain  n_dots\n",
       "10338  personaldefenseworld.com.via.snip.ly       4\n",
       "16398                   www.ctn.state.ct.us       4\n",
       "16756               www.dobbins.afrc.af.mil       4\n",
       "18267            www.youngstown.afrc.af.mil       4\n",
       "18502              www.apgnews.apg.army.mil       4\n",
       "18644              www.westover.afrc.af.mil       4"
      ]
     },
     "execution_count": 59,
     "metadata": {},
     "output_type": "execute_result"
    }
   ],
   "source": [
    "new_news_domains_df.query(\"n_dots == 4\")"
   ]
  },
  {
   "cell_type": "code",
   "execution_count": 49,
   "id": "8e71213c-d778-4d82-93cf-6f449e51e5cc",
   "metadata": {},
   "outputs": [],
   "source": [
    "fisher_cleaned = pd.read_csv(\"../data/intermediate_files/fisher_cleaned.csv\")"
   ]
  },
  {
   "cell_type": "code",
   "execution_count": 40,
   "id": "b67662c7-56e6-4ffe-bcb0-231a0326df8b",
   "metadata": {},
   "outputs": [
    {
     "data": {
      "text/html": [
       "<div>\n",
       "<style scoped>\n",
       "    .dataframe tbody tr th:only-of-type {\n",
       "        vertical-align: middle;\n",
       "    }\n",
       "\n",
       "    .dataframe tbody tr th {\n",
       "        vertical-align: top;\n",
       "    }\n",
       "\n",
       "    .dataframe thead th {\n",
       "        text-align: right;\n",
       "    }\n",
       "</style>\n",
       "<table border=\"1\" class=\"dataframe\">\n",
       "  <thead>\n",
       "    <tr style=\"text-align: right;\">\n",
       "      <th></th>\n",
       "      <th>domain</th>\n",
       "      <th>dataset</th>\n",
       "    </tr>\n",
       "  </thead>\n",
       "  <tbody>\n",
       "    <tr>\n",
       "      <th>0</th>\n",
       "      <td>1011now.com</td>\n",
       "      <td>fisher</td>\n",
       "    </tr>\n",
       "    <tr>\n",
       "      <th>1</th>\n",
       "      <td>10news.com</td>\n",
       "      <td>fisher</td>\n",
       "    </tr>\n",
       "    <tr>\n",
       "      <th>2</th>\n",
       "      <td>10tv.com</td>\n",
       "      <td>fisher</td>\n",
       "    </tr>\n",
       "    <tr>\n",
       "      <th>3</th>\n",
       "      <td>11alive.com</td>\n",
       "      <td>fisher</td>\n",
       "    </tr>\n",
       "    <tr>\n",
       "      <th>4</th>\n",
       "      <td>12news.com</td>\n",
       "      <td>fisher</td>\n",
       "    </tr>\n",
       "    <tr>\n",
       "      <th>...</th>\n",
       "      <td>...</td>\n",
       "      <td>...</td>\n",
       "    </tr>\n",
       "    <tr>\n",
       "      <th>7214</th>\n",
       "      <td>zerkalomn.com</td>\n",
       "      <td>fisher</td>\n",
       "    </tr>\n",
       "    <tr>\n",
       "      <th>7215</th>\n",
       "      <td>zion-bentonnews.com</td>\n",
       "      <td>fisher</td>\n",
       "    </tr>\n",
       "    <tr>\n",
       "      <th>7216</th>\n",
       "      <td>zioncanyon.com</td>\n",
       "      <td>fisher</td>\n",
       "    </tr>\n",
       "    <tr>\n",
       "      <th>7217</th>\n",
       "      <td>zip06.com</td>\n",
       "      <td>fisher</td>\n",
       "    </tr>\n",
       "    <tr>\n",
       "      <th>7218</th>\n",
       "      <td>zumbrota.com</td>\n",
       "      <td>fisher</td>\n",
       "    </tr>\n",
       "  </tbody>\n",
       "</table>\n",
       "<p>7219 rows × 2 columns</p>\n",
       "</div>"
      ],
      "text/plain": [
       "                   domain dataset\n",
       "0             1011now.com  fisher\n",
       "1              10news.com  fisher\n",
       "2                10tv.com  fisher\n",
       "3             11alive.com  fisher\n",
       "4              12news.com  fisher\n",
       "...                   ...     ...\n",
       "7214        zerkalomn.com  fisher\n",
       "7215  zion-bentonnews.com  fisher\n",
       "7216       zioncanyon.com  fisher\n",
       "7217            zip06.com  fisher\n",
       "7218         zumbrota.com  fisher\n",
       "\n",
       "[7219 rows x 2 columns]"
      ]
     },
     "execution_count": 40,
     "metadata": {},
     "output_type": "execute_result"
    }
   ],
   "source": [
    "fisher_cleaned[~fisher_cleaned.domain.str.contains(\"/.\")]"
   ]
  },
  {
   "cell_type": "code",
   "execution_count": 50,
   "id": "760fa52e-3d8f-409e-a9d1-57bfdae27667",
   "metadata": {},
   "outputs": [],
   "source": [
    "temp_df = fisher_cleaned.query(\"domain == 'alaska broadcast television'\").copy()"
   ]
  },
  {
   "cell_type": "code",
   "execution_count": 51,
   "id": "7924e08c-04e2-40e0-bebf-351c1fd30d0a",
   "metadata": {},
   "outputs": [
    {
     "data": {
      "text/html": [
       "<div>\n",
       "<style scoped>\n",
       "    .dataframe tbody tr th:only-of-type {\n",
       "        vertical-align: middle;\n",
       "    }\n",
       "\n",
       "    .dataframe tbody tr th {\n",
       "        vertical-align: top;\n",
       "    }\n",
       "\n",
       "    .dataframe thead th {\n",
       "        text-align: right;\n",
       "    }\n",
       "</style>\n",
       "<table border=\"1\" class=\"dataframe\">\n",
       "  <thead>\n",
       "    <tr style=\"text-align: right;\">\n",
       "      <th></th>\n",
       "      <th>domain</th>\n",
       "      <th>dataset</th>\n",
       "    </tr>\n",
       "  </thead>\n",
       "  <tbody>\n",
       "  </tbody>\n",
       "</table>\n",
       "</div>"
      ],
      "text/plain": [
       "Empty DataFrame\n",
       "Columns: [domain, dataset]\n",
       "Index: []"
      ]
     },
     "execution_count": 51,
     "metadata": {},
     "output_type": "execute_result"
    }
   ],
   "source": [
    "temp_df"
   ]
  },
  {
   "cell_type": "code",
   "execution_count": 48,
   "id": "ac81f62a-e198-4c6c-8208-9e6bfd75b45d",
   "metadata": {},
   "outputs": [
    {
     "data": {
      "text/plain": [
       "147    False\n",
       "Name: domain, dtype: bool"
      ]
     },
     "execution_count": 48,
     "metadata": {},
     "output_type": "execute_result"
    }
   ],
   "source": [
    "temp_df.domain.str.contains(\"\\\\.\")"
   ]
  },
  {
   "cell_type": "code",
   "execution_count": 3,
   "id": "c1411ff7-472d-41de-af68-3a7673a346f6",
   "metadata": {},
   "outputs": [],
   "source": [
    "new_suffix_based_list = pd.read_csv(\"../data/intermediate_files/suffix_based_domain_list.csv\")"
   ]
  },
  {
   "cell_type": "code",
   "execution_count": 7,
   "id": "1d560240-eb37-4373-939d-a103f8b6573c",
   "metadata": {},
   "outputs": [],
   "source": [
    "old_suffix_based_list = pd.read_csv(\"../data/raw_data/suffix_based_domains_to_exclude.csv\")\n",
    "old_suffix_based_list = old_suffix_based_list.dropna(subset=\"domain\")"
   ]
  },
  {
   "cell_type": "code",
   "execution_count": 5,
   "id": "dc8f76f1-044d-4874-8d44-2d457f644e88",
   "metadata": {},
   "outputs": [
    {
     "data": {
      "text/html": [
       "<div>\n",
       "<style scoped>\n",
       "    .dataframe tbody tr th:only-of-type {\n",
       "        vertical-align: middle;\n",
       "    }\n",
       "\n",
       "    .dataframe tbody tr th {\n",
       "        vertical-align: top;\n",
       "    }\n",
       "\n",
       "    .dataframe thead th {\n",
       "        text-align: right;\n",
       "    }\n",
       "</style>\n",
       "<table border=\"1\" class=\"dataframe\">\n",
       "  <thead>\n",
       "    <tr style=\"text-align: right;\">\n",
       "      <th></th>\n",
       "      <th>domain</th>\n",
       "      <th>suffix</th>\n",
       "    </tr>\n",
       "  </thead>\n",
       "  <tbody>\n",
       "    <tr>\n",
       "      <th>0</th>\n",
       "      <td>nasa.gov</td>\n",
       "      <td>gov</td>\n",
       "    </tr>\n",
       "    <tr>\n",
       "      <th>1</th>\n",
       "      <td>brookings.edu</td>\n",
       "      <td>edu</td>\n",
       "    </tr>\n",
       "    <tr>\n",
       "      <th>2</th>\n",
       "      <td>pubmed.ncbi.nlm.nih.gov</td>\n",
       "      <td>gov</td>\n",
       "    </tr>\n",
       "    <tr>\n",
       "      <th>3</th>\n",
       "      <td>ncbi.nlm.nih.gov</td>\n",
       "      <td>gov</td>\n",
       "    </tr>\n",
       "    <tr>\n",
       "      <th>4</th>\n",
       "      <td>nih.gov</td>\n",
       "      <td>gov</td>\n",
       "    </tr>\n",
       "    <tr>\n",
       "      <th>...</th>\n",
       "      <td>...</td>\n",
       "      <td>...</td>\n",
       "    </tr>\n",
       "    <tr>\n",
       "      <th>283</th>\n",
       "      <td>lls.edu</td>\n",
       "      <td>edu</td>\n",
       "    </tr>\n",
       "    <tr>\n",
       "      <th>284</th>\n",
       "      <td>pepperdine.edu</td>\n",
       "      <td>edu</td>\n",
       "    </tr>\n",
       "    <tr>\n",
       "      <th>285</th>\n",
       "      <td>apu.edu</td>\n",
       "      <td>edu</td>\n",
       "    </tr>\n",
       "    <tr>\n",
       "      <th>286</th>\n",
       "      <td>chalcedon.edu</td>\n",
       "      <td>edu</td>\n",
       "    </tr>\n",
       "    <tr>\n",
       "      <th>287</th>\n",
       "      <td>bard.edu</td>\n",
       "      <td>edu</td>\n",
       "    </tr>\n",
       "  </tbody>\n",
       "</table>\n",
       "<p>288 rows × 2 columns</p>\n",
       "</div>"
      ],
      "text/plain": [
       "                      domain suffix\n",
       "0                   nasa.gov    gov\n",
       "1              brookings.edu    edu\n",
       "2    pubmed.ncbi.nlm.nih.gov    gov\n",
       "3           ncbi.nlm.nih.gov    gov\n",
       "4                    nih.gov    gov\n",
       "..                       ...    ...\n",
       "283                  lls.edu    edu\n",
       "284           pepperdine.edu    edu\n",
       "285                  apu.edu    edu\n",
       "286            chalcedon.edu    edu\n",
       "287                 bard.edu    edu\n",
       "\n",
       "[288 rows x 2 columns]"
      ]
     },
     "execution_count": 5,
     "metadata": {},
     "output_type": "execute_result"
    }
   ],
   "source": [
    "new_suffix_based_list"
   ]
  },
  {
   "cell_type": "code",
   "execution_count": 12,
   "id": "5a7f04af-ebc7-40ac-8b02-4d88e383988f",
   "metadata": {},
   "outputs": [],
   "source": [
    "a = set(new_suffix_based_list.domain)\n",
    "b = set(old_suffix_based_list.domain)"
   ]
  },
  {
   "cell_type": "code",
   "execution_count": 10,
   "id": "d6744613-0edc-472f-a512-d07ec75de96d",
   "metadata": {},
   "outputs": [
    {
     "data": {
      "text/plain": [
       "288"
      ]
     },
     "execution_count": 10,
     "metadata": {},
     "output_type": "execute_result"
    }
   ],
   "source": [
    "len(a)"
   ]
  },
  {
   "cell_type": "code",
   "execution_count": 13,
   "id": "67b0d75c-07cd-45c5-857c-182f57a2b335",
   "metadata": {},
   "outputs": [
    {
     "data": {
      "text/plain": [
       "287"
      ]
     },
     "execution_count": 13,
     "metadata": {},
     "output_type": "execute_result"
    }
   ],
   "source": [
    "len(b)"
   ]
  },
  {
   "cell_type": "code",
   "execution_count": 17,
   "id": "a53e9e33-c6a9-4edf-8449-0f966b826770",
   "metadata": {},
   "outputs": [
    {
     "data": {
      "text/plain": [
       "{'bard.edu'}"
      ]
     },
     "execution_count": 17,
     "metadata": {},
     "output_type": "execute_result"
    }
   ],
   "source": [
    "a - (a & b)"
   ]
  },
  {
   "cell_type": "code",
   "execution_count": 8,
   "id": "74e9e12d-c13f-4e0e-961d-9a515432d9c2",
   "metadata": {},
   "outputs": [
    {
     "data": {
      "text/html": [
       "<div>\n",
       "<style scoped>\n",
       "    .dataframe tbody tr th:only-of-type {\n",
       "        vertical-align: middle;\n",
       "    }\n",
       "\n",
       "    .dataframe tbody tr th {\n",
       "        vertical-align: top;\n",
       "    }\n",
       "\n",
       "    .dataframe thead th {\n",
       "        text-align: right;\n",
       "    }\n",
       "</style>\n",
       "<table border=\"1\" class=\"dataframe\">\n",
       "  <thead>\n",
       "    <tr style=\"text-align: right;\">\n",
       "      <th></th>\n",
       "      <th>domain</th>\n",
       "      <th>suffix</th>\n",
       "      <th>exclude</th>\n",
       "    </tr>\n",
       "  </thead>\n",
       "  <tbody>\n",
       "    <tr>\n",
       "      <th>0</th>\n",
       "      <td>brookings.edu</td>\n",
       "      <td>edu</td>\n",
       "      <td>True</td>\n",
       "    </tr>\n",
       "    <tr>\n",
       "      <th>1</th>\n",
       "      <td>chop.edu</td>\n",
       "      <td>edu</td>\n",
       "      <td>True</td>\n",
       "    </tr>\n",
       "    <tr>\n",
       "      <th>2</th>\n",
       "      <td>health.harvard.edu</td>\n",
       "      <td>edu</td>\n",
       "      <td>False</td>\n",
       "    </tr>\n",
       "    <tr>\n",
       "      <th>3</th>\n",
       "      <td>columbia.edu</td>\n",
       "      <td>edu</td>\n",
       "      <td>True</td>\n",
       "    </tr>\n",
       "    <tr>\n",
       "      <th>4</th>\n",
       "      <td>yale.edu</td>\n",
       "      <td>edu</td>\n",
       "      <td>True</td>\n",
       "    </tr>\n",
       "    <tr>\n",
       "      <th>...</th>\n",
       "      <td>...</td>\n",
       "      <td>...</td>\n",
       "      <td>...</td>\n",
       "    </tr>\n",
       "    <tr>\n",
       "      <th>333</th>\n",
       "      <td>www.robins.af.mil</td>\n",
       "      <td>mil</td>\n",
       "      <td>True</td>\n",
       "    </tr>\n",
       "    <tr>\n",
       "      <th>334</th>\n",
       "      <td>www.stewart.army.mil</td>\n",
       "      <td>mil</td>\n",
       "      <td>True</td>\n",
       "    </tr>\n",
       "    <tr>\n",
       "      <th>335</th>\n",
       "      <td>www.usafa.af.mil</td>\n",
       "      <td>mil</td>\n",
       "      <td>True</td>\n",
       "    </tr>\n",
       "    <tr>\n",
       "      <th>336</th>\n",
       "      <td>www.westover.afrc.af.mil</td>\n",
       "      <td>mil</td>\n",
       "      <td>True</td>\n",
       "    </tr>\n",
       "    <tr>\n",
       "      <th>337</th>\n",
       "      <td>www.youngstown.afrc.af.mil</td>\n",
       "      <td>mil</td>\n",
       "      <td>True</td>\n",
       "    </tr>\n",
       "  </tbody>\n",
       "</table>\n",
       "<p>338 rows × 3 columns</p>\n",
       "</div>"
      ],
      "text/plain": [
       "                         domain suffix  exclude\n",
       "0                 brookings.edu    edu     True\n",
       "1                      chop.edu    edu     True\n",
       "2            health.harvard.edu    edu    False\n",
       "3                  columbia.edu    edu     True\n",
       "4                      yale.edu    edu     True\n",
       "..                          ...    ...      ...\n",
       "333           www.robins.af.mil    mil     True\n",
       "334        www.stewart.army.mil    mil     True\n",
       "335            www.usafa.af.mil    mil     True\n",
       "336    www.westover.afrc.af.mil    mil     True\n",
       "337  www.youngstown.afrc.af.mil    mil     True\n",
       "\n",
       "[338 rows x 3 columns]"
      ]
     },
     "execution_count": 8,
     "metadata": {},
     "output_type": "execute_result"
    }
   ],
   "source": [
    "old_suffix_based_list"
   ]
  }
 ],
 "metadata": {
  "kernelspec": {
   "display_name": "Python 3 (ipykernel)",
   "language": "python",
   "name": "python3"
  },
  "language_info": {
   "codemirror_mode": {
    "name": "ipython",
    "version": 3
   },
   "file_extension": ".py",
   "mimetype": "text/x-python",
   "name": "python",
   "nbconvert_exporter": "python",
   "pygments_lexer": "ipython3",
   "version": "3.12.9"
  }
 },
 "nbformat": 4,
 "nbformat_minor": 5
}
