{
 "cells": [
  {
   "cell_type": "code",
   "execution_count": 2,
   "id": "16b2f959-f927-4a13-85b8-6a8bd0b8d60d",
   "metadata": {},
   "outputs": [],
   "source": [
    "import pandas as pd\n",
    "import tldextract\n",
    "from urllib.parse import urlparse"
   ]
  },
  {
   "cell_type": "markdown",
   "id": "423a028b-b399-46f8-9d7a-b5a5fea65485",
   "metadata": {},
   "source": [
    "# NewsGuard"
   ]
  },
  {
   "cell_type": "code",
   "execution_count": 3,
   "id": "8c2e45ee-80e0-4b39-b811-1f438ff756f8",
   "metadata": {},
   "outputs": [],
   "source": [
    "newsguard_df = pd.read_csv(\"../data/raw_data/newsguard_20200519.csv\", usecols=[\"Domain\"])"
   ]
  },
  {
   "cell_type": "code",
   "execution_count": 4,
   "id": "c33e01ae-b87f-49d3-8d8e-984041e4e8ac",
   "metadata": {},
   "outputs": [],
   "source": [
    "newsguard_df.rename(columns={\"Domain\": \"domain\"}, inplace=True)"
   ]
  },
  {
   "cell_type": "code",
   "execution_count": 5,
   "id": "e973e958-c25a-47e3-9777-75f192004fac",
   "metadata": {},
   "outputs": [],
   "source": [
    "newsguard_df['domain'] = newsguard_df.domain.str.lower()"
   ]
  },
  {
   "cell_type": "code",
   "execution_count": 6,
   "id": "e88be92a-7cdd-47c0-836a-dd6be27cf7dd",
   "metadata": {},
   "outputs": [
    {
     "data": {
      "text/html": [
       "<div>\n",
       "<style scoped>\n",
       "    .dataframe tbody tr th:only-of-type {\n",
       "        vertical-align: middle;\n",
       "    }\n",
       "\n",
       "    .dataframe tbody tr th {\n",
       "        vertical-align: top;\n",
       "    }\n",
       "\n",
       "    .dataframe thead th {\n",
       "        text-align: right;\n",
       "    }\n",
       "</style>\n",
       "<table border=\"1\" class=\"dataframe\">\n",
       "  <thead>\n",
       "    <tr style=\"text-align: right;\">\n",
       "      <th></th>\n",
       "      <th>domain</th>\n",
       "    </tr>\n",
       "  </thead>\n",
       "  <tbody>\n",
       "  </tbody>\n",
       "</table>\n",
       "</div>"
      ],
      "text/plain": [
       "Empty DataFrame\n",
       "Columns: [domain]\n",
       "Index: []"
      ]
     },
     "execution_count": 6,
     "metadata": {},
     "output_type": "execute_result"
    }
   ],
   "source": [
    "newsguard_df[newsguard_df.domain.str.contains(\"/\")]"
   ]
  },
  {
   "cell_type": "code",
   "execution_count": 7,
   "id": "73cc603b-2645-4378-955b-af470538f35d",
   "metadata": {},
   "outputs": [
    {
     "ename": "NameError",
     "evalue": "name 'extract_suffix' is not defined",
     "output_type": "error",
     "traceback": [
      "\u001b[31m---------------------------------------------------------------------------\u001b[39m",
      "\u001b[31mNameError\u001b[39m                                 Traceback (most recent call last)",
      "\u001b[36mCell\u001b[39m\u001b[36m \u001b[39m\u001b[32mIn[7]\u001b[39m\u001b[32m, line 1\u001b[39m\n\u001b[32m----> \u001b[39m\u001b[32m1\u001b[39m newsguard_df[\u001b[33m'\u001b[39m\u001b[33msuffix\u001b[39m\u001b[33m'\u001b[39m] = newsguard_df.domain.apply(\u001b[43mextract_suffix\u001b[49m)\n",
      "\u001b[31mNameError\u001b[39m: name 'extract_suffix' is not defined"
     ]
    }
   ],
   "source": [
    "newsguard_df['suffix'] = newsguard_df.domain.apply(extract_suffix)"
   ]
  },
  {
   "cell_type": "code",
   "execution_count": 35,
   "id": "891ba28e-7a87-4fc5-93d8-f37af6c90b28",
   "metadata": {},
   "outputs": [
    {
     "data": {
      "text/plain": [
       "suffix\n",
       "com      2893\n",
       "it        458\n",
       "de        348\n",
       "fr        300\n",
       "news      253\n",
       "org       231\n",
       "net       121\n",
       "co.uk     114\n",
       "site       63\n",
       "pro        36\n",
       "tv         33\n",
       "info       29\n",
       "us         23\n",
       "co         19\n",
       "at         14\n",
       "eu         12\n",
       "be         12\n",
       "xyz        10\n",
       "ca         10\n",
       "gov         9\n",
       "Name: count, dtype: int64"
      ]
     },
     "execution_count": 35,
     "metadata": {},
     "output_type": "execute_result"
    }
   ],
   "source": [
    "newsguard_df.suffix.value_counts().head(20)"
   ]
  },
  {
   "cell_type": "code",
   "execution_count": 10,
   "id": "37394494-a694-4b75-be90-816850717fb9",
   "metadata": {},
   "outputs": [
    {
     "data": {
      "text/html": [
       "<div>\n",
       "<style scoped>\n",
       "    .dataframe tbody tr th:only-of-type {\n",
       "        vertical-align: middle;\n",
       "    }\n",
       "\n",
       "    .dataframe tbody tr th {\n",
       "        vertical-align: top;\n",
       "    }\n",
       "\n",
       "    .dataframe thead th {\n",
       "        text-align: right;\n",
       "    }\n",
       "</style>\n",
       "<table border=\"1\" class=\"dataframe\">\n",
       "  <thead>\n",
       "    <tr style=\"text-align: right;\">\n",
       "      <th></th>\n",
       "      <th>domain</th>\n",
       "    </tr>\n",
       "  </thead>\n",
       "  <tbody>\n",
       "  </tbody>\n",
       "</table>\n",
       "</div>"
      ],
      "text/plain": [
       "Empty DataFrame\n",
       "Columns: [domain]\n",
       "Index: []"
      ]
     },
     "execution_count": 10,
     "metadata": {},
     "output_type": "execute_result"
    }
   ],
   "source": [
    "newsguard_df.query(\"domain == 'valleytimes'\")"
   ]
  },
  {
   "cell_type": "code",
   "execution_count": 41,
   "id": "7cc729ba-34d7-4f79-ba57-a0192b1883ce",
   "metadata": {},
   "outputs": [
    {
     "data": {
      "text/html": [
       "<div>\n",
       "<style scoped>\n",
       "    .dataframe tbody tr th:only-of-type {\n",
       "        vertical-align: middle;\n",
       "    }\n",
       "\n",
       "    .dataframe tbody tr th {\n",
       "        vertical-align: top;\n",
       "    }\n",
       "\n",
       "    .dataframe thead th {\n",
       "        text-align: right;\n",
       "    }\n",
       "</style>\n",
       "<table border=\"1\" class=\"dataframe\">\n",
       "  <thead>\n",
       "    <tr style=\"text-align: right;\">\n",
       "      <th></th>\n",
       "      <th>domain</th>\n",
       "      <th>suffix</th>\n",
       "    </tr>\n",
       "  </thead>\n",
       "  <tbody>\n",
       "    <tr>\n",
       "      <th>988</th>\n",
       "      <td>brookings.edu</td>\n",
       "      <td>edu</td>\n",
       "    </tr>\n",
       "    <tr>\n",
       "      <th>2315</th>\n",
       "      <td>chop.edu</td>\n",
       "      <td>edu</td>\n",
       "    </tr>\n",
       "    <tr>\n",
       "      <th>2357</th>\n",
       "      <td>health.harvard.edu</td>\n",
       "      <td>edu</td>\n",
       "    </tr>\n",
       "  </tbody>\n",
       "</table>\n",
       "</div>"
      ],
      "text/plain": [
       "                  domain suffix\n",
       "988        brookings.edu    edu\n",
       "2315            chop.edu    edu\n",
       "2357  health.harvard.edu    edu"
      ]
     },
     "execution_count": 41,
     "metadata": {},
     "output_type": "execute_result"
    }
   ],
   "source": [
    "newsguard_df.query(\"suffix == 'edu'\")"
   ]
  },
  {
   "cell_type": "code",
   "execution_count": 44,
   "id": "bcf95681-4eb2-496a-bf92-e5e6baa87e1f",
   "metadata": {},
   "outputs": [
    {
     "data": {
      "text/plain": [
       "domain\n",
       "vice.com                  5\n",
       "msn.com                   4\n",
       "wikipedia.org             4\n",
       "youtube.com               4\n",
       "afp.com                   3\n",
       "blastingnews.com          3\n",
       "yetiblog.org              2\n",
       "dna.fr                    2\n",
       "santepubliquefrance.fr    2\n",
       "nicematin.com             2\n",
       "europe1.fr                2\n",
       "maz-online.de             2\n",
       "deutschlandfunk.de        2\n",
       "20minutes.fr              2\n",
       "policeetrealites.com      2\n",
       "pisatoday.it              2\n",
       "rfi.fr                    2\n",
       "mediapart.fr              2\n",
       "torinotoday.it            2\n",
       "topsante.com              2\n",
       "Name: count, dtype: int64"
      ]
     },
     "execution_count": 44,
     "metadata": {},
     "output_type": "execute_result"
    }
   ],
   "source": [
    "newsguard_df.domain.value_counts().head(20)"
   ]
  },
  {
   "cell_type": "markdown",
   "id": "72d5096e-bd4d-4cdd-9a58-b9d478192405",
   "metadata": {},
   "source": [
    "# MBFC"
   ]
  },
  {
   "cell_type": "code",
   "execution_count": 11,
   "id": "6b9afb75-1a84-4cc9-abac-c202adeff26d",
   "metadata": {},
   "outputs": [],
   "source": [
    "mbfc_df = pd.read_csv(\"../data/raw_data/mbfc_ratings.csv\", usecols=['source', 'domain'])"
   ]
  },
  {
   "cell_type": "code",
   "execution_count": 12,
   "id": "471f78e1-e862-48a3-91d0-df35309afbee",
   "metadata": {},
   "outputs": [],
   "source": [
    "mbfc_df.dropna(inplace=True)"
   ]
  },
  {
   "cell_type": "code",
   "execution_count": 13,
   "id": "c65cfb26-36ed-4552-bb26-cbe807767fc9",
   "metadata": {},
   "outputs": [
    {
     "data": {
      "text/html": [
       "<div>\n",
       "<style scoped>\n",
       "    .dataframe tbody tr th:only-of-type {\n",
       "        vertical-align: middle;\n",
       "    }\n",
       "\n",
       "    .dataframe tbody tr th {\n",
       "        vertical-align: top;\n",
       "    }\n",
       "\n",
       "    .dataframe thead th {\n",
       "        text-align: right;\n",
       "    }\n",
       "</style>\n",
       "<table border=\"1\" class=\"dataframe\">\n",
       "  <thead>\n",
       "    <tr style=\"text-align: right;\">\n",
       "      <th></th>\n",
       "      <th>source</th>\n",
       "      <th>domain</th>\n",
       "    </tr>\n",
       "  </thead>\n",
       "  <tbody>\n",
       "    <tr>\n",
       "      <th>234</th>\n",
       "      <td>https://www.facebook.com/news</td>\n",
       "      <td>facebook.com</td>\n",
       "    </tr>\n",
       "    <tr>\n",
       "      <th>2847</th>\n",
       "      <td>https://www.facebook.com/WOMENSRIGHTSNEWS/</td>\n",
       "      <td>facebook.com</td>\n",
       "    </tr>\n",
       "  </tbody>\n",
       "</table>\n",
       "</div>"
      ],
      "text/plain": [
       "                                          source        domain\n",
       "234                https://www.facebook.com/news  facebook.com\n",
       "2847  https://www.facebook.com/WOMENSRIGHTSNEWS/  facebook.com"
      ]
     },
     "execution_count": 13,
     "metadata": {},
     "output_type": "execute_result"
    }
   ],
   "source": [
    "mbfc_df.query(\"domain == 'facebook.com'\")"
   ]
  },
  {
   "cell_type": "code",
   "execution_count": 14,
   "id": "4d549640-7f1d-460d-895e-b9a1fdbe8dd8",
   "metadata": {},
   "outputs": [
    {
     "data": {
      "text/html": [
       "<div>\n",
       "<style scoped>\n",
       "    .dataframe tbody tr th:only-of-type {\n",
       "        vertical-align: middle;\n",
       "    }\n",
       "\n",
       "    .dataframe tbody tr th {\n",
       "        vertical-align: top;\n",
       "    }\n",
       "\n",
       "    .dataframe thead th {\n",
       "        text-align: right;\n",
       "    }\n",
       "</style>\n",
       "<table border=\"1\" class=\"dataframe\">\n",
       "  <thead>\n",
       "    <tr style=\"text-align: right;\">\n",
       "      <th></th>\n",
       "      <th>source</th>\n",
       "      <th>domain</th>\n",
       "    </tr>\n",
       "  </thead>\n",
       "  <tbody>\n",
       "  </tbody>\n",
       "</table>\n",
       "</div>"
      ],
      "text/plain": [
       "Empty DataFrame\n",
       "Columns: [source, domain]\n",
       "Index: []"
      ]
     },
     "execution_count": 14,
     "metadata": {},
     "output_type": "execute_result"
    }
   ],
   "source": [
    "mbfc_df.query(\"domain == 'valleytimes'\")"
   ]
  },
  {
   "cell_type": "code",
   "execution_count": 8,
   "id": "f0bf316f-04a8-4549-8717-61a0e3e4fdd1",
   "metadata": {},
   "outputs": [],
   "source": [
    "def extract_domain(url):\n",
    "    \"\"\"\n",
    "    Extract the domain from the URL.\n",
    "\n",
    "    Returns:\n",
    "        str: The domain (e.g. 'example.com')\n",
    "    \"\"\"\n",
    "    extracted = tldextract.extract(url)\n",
    "    domain = f\"{extracted.domain}.{extracted.suffix}\"\n",
    "    return domain"
   ]
  },
  {
   "cell_type": "code",
   "execution_count": 11,
   "id": "86a32594-1d3d-4f2e-acd8-9a1231c66bd4",
   "metadata": {},
   "outputs": [
    {
     "data": {
      "text/plain": [
       "'facebook.com'"
      ]
     },
     "execution_count": 11,
     "metadata": {},
     "output_type": "execute_result"
    }
   ],
   "source": [
    "extract_domain(\"news.facebook.com\")"
   ]
  },
  {
   "cell_type": "code",
   "execution_count": 25,
   "id": "02c194df-0316-43d7-992f-29cad784e54b",
   "metadata": {},
   "outputs": [],
   "source": [
    "extracted = tldextract.extract('https://www.facebook.com/news')"
   ]
  },
  {
   "cell_type": "code",
   "execution_count": null,
   "id": "2dbc7690-67c3-4e25-b4f6-030d00c3736b",
   "metadata": {},
   "outputs": [],
   "source": []
  },
  {
   "cell_type": "code",
   "execution_count": 26,
   "id": "9f9b4b7e-3eeb-49a2-8edb-77f74ee93c5b",
   "metadata": {},
   "outputs": [
    {
     "data": {
      "text/plain": [
       "'facebook'"
      ]
     },
     "execution_count": 26,
     "metadata": {},
     "output_type": "execute_result"
    }
   ],
   "source": [
    "extracted.domain"
   ]
  },
  {
   "cell_type": "code",
   "execution_count": 27,
   "id": "50a34863-bc48-4d22-b357-59be817af126",
   "metadata": {},
   "outputs": [
    {
     "data": {
      "text/plain": [
       "'www'"
      ]
     },
     "execution_count": 27,
     "metadata": {},
     "output_type": "execute_result"
    }
   ],
   "source": [
    "extracted.subdomain"
   ]
  },
  {
   "cell_type": "code",
   "execution_count": 28,
   "id": "f95a3770-5463-4223-8be7-1c04fedcf24f",
   "metadata": {},
   "outputs": [
    {
     "data": {
      "text/plain": [
       "'com'"
      ]
     },
     "execution_count": 28,
     "metadata": {},
     "output_type": "execute_result"
    }
   ],
   "source": [
    "extracted.suffix"
   ]
  },
  {
   "cell_type": "code",
   "execution_count": 9,
   "id": "502ce1b6-e765-49bf-94bb-e4afe753f287",
   "metadata": {},
   "outputs": [],
   "source": [
    "def extract_suffix(url):\n",
    "    extracted = tldextract.extract(url)\n",
    "    suffix = extracted.suffix\n",
    "    return suffix"
   ]
  },
  {
   "cell_type": "code",
   "execution_count": 32,
   "id": "e9ea1748-ab2b-4bc1-9ec5-473f06320890",
   "metadata": {},
   "outputs": [],
   "source": [
    "parsed_url = urlparse('https://www.facebook.com/news')\n",
    "parsed_url = urlparse('https://www.facebook.com')"
   ]
  },
  {
   "cell_type": "code",
   "execution_count": 78,
   "id": "ccf86ca1-983f-4aeb-b0e0-578ea0daf807",
   "metadata": {},
   "outputs": [],
   "source": [
    "def has_path(url):\n",
    "    parsed_url = urlparse(url)\n",
    "    path = parsed_url.path.replace(\"/\", \"\")\n",
    "    return path != \"\""
   ]
  },
  {
   "cell_type": "code",
   "execution_count": 45,
   "id": "31054e90-3079-43f0-a00e-d2bea618236d",
   "metadata": {},
   "outputs": [],
   "source": [
    "list_of_domains_to_remove = set(\n",
    "    [\n",
    "        \"youtube.com\",\n",
    "        \"twitter.com\",\n",
    "        \"instagram.com\",\n",
    "        \"tiktok.com\",\n",
    "        \"facebook.com\",\n",
    "        \"linkedin.com\",\n",
    "        \"pinterest.com\",\n",
    "        \"reddit.com\",\n",
    "        \"tumblr.com\",\n",
    "        \"flickr.com\",\n",
    "        \"vimeo.com\",\n",
    "        \"wikipedia.org\",\n",
    "    ]\n",
    ")"
   ]
  },
  {
   "cell_type": "code",
   "execution_count": 46,
   "id": "7a26742c-b4ac-45db-9a9d-07db3bdc4bee",
   "metadata": {},
   "outputs": [
    {
     "data": {
      "text/html": [
       "<div>\n",
       "<style scoped>\n",
       "    .dataframe tbody tr th:only-of-type {\n",
       "        vertical-align: middle;\n",
       "    }\n",
       "\n",
       "    .dataframe tbody tr th {\n",
       "        vertical-align: top;\n",
       "    }\n",
       "\n",
       "    .dataframe thead th {\n",
       "        text-align: right;\n",
       "    }\n",
       "</style>\n",
       "<table border=\"1\" class=\"dataframe\">\n",
       "  <thead>\n",
       "    <tr style=\"text-align: right;\">\n",
       "      <th></th>\n",
       "      <th>source</th>\n",
       "      <th>domain</th>\n",
       "    </tr>\n",
       "  </thead>\n",
       "  <tbody>\n",
       "    <tr>\n",
       "      <th>234</th>\n",
       "      <td>https://www.facebook.com/news</td>\n",
       "      <td>facebook.com</td>\n",
       "    </tr>\n",
       "    <tr>\n",
       "      <th>2385</th>\n",
       "      <td>https://www.youtube.com/nextnewsnetwork</td>\n",
       "      <td>youtube.com</td>\n",
       "    </tr>\n",
       "    <tr>\n",
       "      <th>2847</th>\n",
       "      <td>https://www.facebook.com/WOMENSRIGHTSNEWS/</td>\n",
       "      <td>facebook.com</td>\n",
       "    </tr>\n",
       "    <tr>\n",
       "      <th>4004</th>\n",
       "      <td>https://www.wikipedia.org/</td>\n",
       "      <td>wikipedia.org</td>\n",
       "    </tr>\n",
       "  </tbody>\n",
       "</table>\n",
       "</div>"
      ],
      "text/plain": [
       "                                          source         domain\n",
       "234                https://www.facebook.com/news   facebook.com\n",
       "2385     https://www.youtube.com/nextnewsnetwork    youtube.com\n",
       "2847  https://www.facebook.com/WOMENSRIGHTSNEWS/   facebook.com\n",
       "4004                  https://www.wikipedia.org/  wikipedia.org"
      ]
     },
     "execution_count": 46,
     "metadata": {},
     "output_type": "execute_result"
    }
   ],
   "source": [
    "mbfc_df[mbfc_df.domain.isin(list_of_domains_to_remove)]"
   ]
  },
  {
   "cell_type": "code",
   "execution_count": 79,
   "id": "894eb0e0-87c9-4ca5-981a-5f5201519dd7",
   "metadata": {},
   "outputs": [],
   "source": [
    "mbfc_df['has_path'] = mbfc_df['source'].apply(has_path)"
   ]
  },
  {
   "cell_type": "code",
   "execution_count": 91,
   "id": "92799507-48e7-405a-8796-f29e8c89effd",
   "metadata": {},
   "outputs": [],
   "source": [
    "mbfc_df['suffix'] = mbfc_df.domain.apply(extract_suffix)"
   ]
  },
  {
   "cell_type": "code",
   "execution_count": 94,
   "id": "bd21fcd0-b4bb-459e-b61e-2a2428d7393b",
   "metadata": {},
   "outputs": [
    {
     "data": {
      "text/plain": [
       "suffix\n",
       "com       3255\n",
       "org        642\n",
       "net         90\n",
       "news        57\n",
       "ca          38\n",
       "co.uk       38\n",
       "us          24\n",
       "tv          24\n",
       "com.au      22\n",
       "gov         19\n",
       "co          12\n",
       "info        11\n",
       "de           8\n",
       "edu          8\n",
       "fr           7\n",
       "it           7\n",
       "in           7\n",
       "nl           6\n",
       "co.za        6\n",
       "se           5\n",
       "Name: count, dtype: int64"
      ]
     },
     "execution_count": 94,
     "metadata": {},
     "output_type": "execute_result"
    }
   ],
   "source": [
    "mbfc_df.suffix.value_counts().head(20)"
   ]
  },
  {
   "cell_type": "code",
   "execution_count": 98,
   "id": "5cf03759-d36d-42c2-a44e-803a0386e89c",
   "metadata": {},
   "outputs": [
    {
     "data": {
      "text/html": [
       "<div>\n",
       "<style scoped>\n",
       "    .dataframe tbody tr th:only-of-type {\n",
       "        vertical-align: middle;\n",
       "    }\n",
       "\n",
       "    .dataframe tbody tr th {\n",
       "        vertical-align: top;\n",
       "    }\n",
       "\n",
       "    .dataframe thead th {\n",
       "        text-align: right;\n",
       "    }\n",
       "</style>\n",
       "<table border=\"1\" class=\"dataframe\">\n",
       "  <thead>\n",
       "    <tr style=\"text-align: right;\">\n",
       "      <th></th>\n",
       "      <th>source</th>\n",
       "      <th>domain</th>\n",
       "      <th>suffix</th>\n",
       "    </tr>\n",
       "  </thead>\n",
       "  <tbody>\n",
       "    <tr>\n",
       "      <th>104</th>\n",
       "      <td>https://www.brookings.edu/</td>\n",
       "      <td>brookings.edu</td>\n",
       "      <td>edu</td>\n",
       "    </tr>\n",
       "    <tr>\n",
       "      <th>204</th>\n",
       "      <td>http://earth.columbia.edu/</td>\n",
       "      <td>columbia.edu</td>\n",
       "      <td>edu</td>\n",
       "    </tr>\n",
       "    <tr>\n",
       "      <th>758</th>\n",
       "      <td>https://yaleglobal.yale.edu</td>\n",
       "      <td>yale.edu</td>\n",
       "      <td>edu</td>\n",
       "    </tr>\n",
       "    <tr>\n",
       "      <th>1349</th>\n",
       "      <td>https://imprimis.hillsdale.edu</td>\n",
       "      <td>hillsdale.edu</td>\n",
       "      <td>edu</td>\n",
       "    </tr>\n",
       "    <tr>\n",
       "      <th>2865</th>\n",
       "      <td>https://allianceforscience.cornell.edu</td>\n",
       "      <td>cornell.edu</td>\n",
       "      <td>edu</td>\n",
       "    </tr>\n",
       "    <tr>\n",
       "      <th>2988</th>\n",
       "      <td>https://scripps.ucsd.edu/news</td>\n",
       "      <td>ucsd.edu</td>\n",
       "      <td>edu</td>\n",
       "    </tr>\n",
       "    <tr>\n",
       "      <th>3345</th>\n",
       "      <td>https://news.harvard.edu/</td>\n",
       "      <td>harvard.edu</td>\n",
       "      <td>edu</td>\n",
       "    </tr>\n",
       "    <tr>\n",
       "      <th>3793</th>\n",
       "      <td>http://outlook.monmouth.edu/</td>\n",
       "      <td>outlook.monmouth.edu</td>\n",
       "      <td>edu</td>\n",
       "    </tr>\n",
       "  </tbody>\n",
       "</table>\n",
       "</div>"
      ],
      "text/plain": [
       "                                      source                domain suffix\n",
       "104               https://www.brookings.edu/         brookings.edu    edu\n",
       "204               http://earth.columbia.edu/          columbia.edu    edu\n",
       "758              https://yaleglobal.yale.edu              yale.edu    edu\n",
       "1349          https://imprimis.hillsdale.edu         hillsdale.edu    edu\n",
       "2865  https://allianceforscience.cornell.edu           cornell.edu    edu\n",
       "2988           https://scripps.ucsd.edu/news              ucsd.edu    edu\n",
       "3345               https://news.harvard.edu/           harvard.edu    edu\n",
       "3793            http://outlook.monmouth.edu/  outlook.monmouth.edu    edu"
      ]
     },
     "execution_count": 98,
     "metadata": {},
     "output_type": "execute_result"
    }
   ],
   "source": [
    "mbfc_df.query(\"suffix == 'edu'\")"
   ]
  },
  {
   "cell_type": "code",
   "execution_count": 81,
   "id": "91fa1866-205a-4087-ae70-067cf02d88e2",
   "metadata": {},
   "outputs": [],
   "source": [
    "temp_df = mbfc_df.query(\"has_path == True\")"
   ]
  },
  {
   "cell_type": "code",
   "execution_count": 83,
   "id": "4365dcb3-5e9c-4c55-aa17-6adf88b0da8b",
   "metadata": {},
   "outputs": [
    {
     "data": {
      "text/html": [
       "<div>\n",
       "<style scoped>\n",
       "    .dataframe tbody tr th:only-of-type {\n",
       "        vertical-align: middle;\n",
       "    }\n",
       "\n",
       "    .dataframe tbody tr th {\n",
       "        vertical-align: top;\n",
       "    }\n",
       "\n",
       "    .dataframe thead th {\n",
       "        text-align: right;\n",
       "    }\n",
       "</style>\n",
       "<table border=\"1\" class=\"dataframe\">\n",
       "  <thead>\n",
       "    <tr style=\"text-align: right;\">\n",
       "      <th></th>\n",
       "      <th>source</th>\n",
       "      <th>domain</th>\n",
       "      <th>has_path</th>\n",
       "    </tr>\n",
       "  </thead>\n",
       "  <tbody>\n",
       "    <tr>\n",
       "      <th>3</th>\n",
       "      <td>https://www.whitehouse.gov/1600daily</td>\n",
       "      <td>whitehouse.gov</td>\n",
       "      <td>True</td>\n",
       "    </tr>\n",
       "    <tr>\n",
       "      <th>18</th>\n",
       "      <td>https://www.messagemedia.co/aitkin/</td>\n",
       "      <td>messagemedia.co</td>\n",
       "      <td>True</td>\n",
       "    </tr>\n",
       "    <tr>\n",
       "      <th>28</th>\n",
       "      <td>https://www.simcoe.com/alliston-on/</td>\n",
       "      <td>simcoe.com</td>\n",
       "      <td>True</td>\n",
       "    </tr>\n",
       "    <tr>\n",
       "      <th>29</th>\n",
       "      <td>https://www.northbaynipissing.com/almaguinhigh...</td>\n",
       "      <td>northbaynipissing.com</td>\n",
       "      <td>True</td>\n",
       "    </tr>\n",
       "    <tr>\n",
       "      <th>36</th>\n",
       "      <td>https://www.amnesty.org/en/</td>\n",
       "      <td>amnesty.org</td>\n",
       "      <td>True</td>\n",
       "    </tr>\n",
       "    <tr>\n",
       "      <th>...</th>\n",
       "      <td>...</td>\n",
       "      <td>...</td>\n",
       "      <td>...</td>\n",
       "    </tr>\n",
       "    <tr>\n",
       "      <th>4230</th>\n",
       "      <td>joebiden.com/</td>\n",
       "      <td>joebiden.com</td>\n",
       "      <td>True</td>\n",
       "    </tr>\n",
       "    <tr>\n",
       "      <th>4249</th>\n",
       "      <td>https://meduza.io/en</td>\n",
       "      <td>meduza.io</td>\n",
       "      <td>True</td>\n",
       "    </tr>\n",
       "    <tr>\n",
       "      <th>4329</th>\n",
       "      <td>https://www.worldsocialism.org/spgb/</td>\n",
       "      <td>worldsocialism.org</td>\n",
       "      <td>True</td>\n",
       "    </tr>\n",
       "    <tr>\n",
       "      <th>4364</th>\n",
       "      <td>https://mavenroundtable.io/theintellectualist/</td>\n",
       "      <td>mavenroundtable.io</td>\n",
       "      <td>True</td>\n",
       "    </tr>\n",
       "    <tr>\n",
       "      <th>4420</th>\n",
       "      <td>https://zcomm.org/zmag/</td>\n",
       "      <td>NaN</td>\n",
       "      <td>True</td>\n",
       "    </tr>\n",
       "  </tbody>\n",
       "</table>\n",
       "<p>183 rows × 3 columns</p>\n",
       "</div>"
      ],
      "text/plain": [
       "                                                 source  \\\n",
       "3                  https://www.whitehouse.gov/1600daily   \n",
       "18                  https://www.messagemedia.co/aitkin/   \n",
       "28                  https://www.simcoe.com/alliston-on/   \n",
       "29    https://www.northbaynipissing.com/almaguinhigh...   \n",
       "36                          https://www.amnesty.org/en/   \n",
       "...                                                 ...   \n",
       "4230                                      joebiden.com/   \n",
       "4249                               https://meduza.io/en   \n",
       "4329               https://www.worldsocialism.org/spgb/   \n",
       "4364     https://mavenroundtable.io/theintellectualist/   \n",
       "4420                            https://zcomm.org/zmag/   \n",
       "\n",
       "                     domain  has_path  \n",
       "3            whitehouse.gov      True  \n",
       "18          messagemedia.co      True  \n",
       "28               simcoe.com      True  \n",
       "29    northbaynipissing.com      True  \n",
       "36              amnesty.org      True  \n",
       "...                     ...       ...  \n",
       "4230           joebiden.com      True  \n",
       "4249              meduza.io      True  \n",
       "4329     worldsocialism.org      True  \n",
       "4364     mavenroundtable.io      True  \n",
       "4420                    NaN      True  \n",
       "\n",
       "[183 rows x 3 columns]"
      ]
     },
     "execution_count": 83,
     "metadata": {},
     "output_type": "execute_result"
    }
   ],
   "source": [
    "temp_df"
   ]
  },
  {
   "cell_type": "code",
   "execution_count": 84,
   "id": "92c3ed99-1088-48c8-8ac2-3d7b5c68af1c",
   "metadata": {},
   "outputs": [
    {
     "data": {
      "text/html": [
       "<div>\n",
       "<style scoped>\n",
       "    .dataframe tbody tr th:only-of-type {\n",
       "        vertical-align: middle;\n",
       "    }\n",
       "\n",
       "    .dataframe tbody tr th {\n",
       "        vertical-align: top;\n",
       "    }\n",
       "\n",
       "    .dataframe thead th {\n",
       "        text-align: right;\n",
       "    }\n",
       "</style>\n",
       "<table border=\"1\" class=\"dataframe\">\n",
       "  <thead>\n",
       "    <tr style=\"text-align: right;\">\n",
       "      <th></th>\n",
       "      <th>source</th>\n",
       "      <th>domain</th>\n",
       "      <th>has_path</th>\n",
       "    </tr>\n",
       "  </thead>\n",
       "  <tbody>\n",
       "    <tr>\n",
       "      <th>3</th>\n",
       "      <td>https://www.whitehouse.gov/1600daily</td>\n",
       "      <td>whitehouse.gov</td>\n",
       "      <td>True</td>\n",
       "    </tr>\n",
       "    <tr>\n",
       "      <th>738</th>\n",
       "      <td>https://www.whitehouse.gov</td>\n",
       "      <td>whitehouse.gov</td>\n",
       "      <td>False</td>\n",
       "    </tr>\n",
       "  </tbody>\n",
       "</table>\n",
       "</div>"
      ],
      "text/plain": [
       "                                   source          domain  has_path\n",
       "3    https://www.whitehouse.gov/1600daily  whitehouse.gov      True\n",
       "738            https://www.whitehouse.gov  whitehouse.gov     False"
      ]
     },
     "execution_count": 84,
     "metadata": {},
     "output_type": "execute_result"
    }
   ],
   "source": [
    "mbfc_df.query(\"domain == 'whitehouse.gov'\")"
   ]
  },
  {
   "cell_type": "code",
   "execution_count": 72,
   "id": "7155052e-6720-401b-98b7-40ef7b27105c",
   "metadata": {},
   "outputs": [],
   "source": [
    "parsed_url = urlparse(\"https://www.100milefreepress.net/news\")"
   ]
  },
  {
   "cell_type": "code",
   "execution_count": 82,
   "id": "c51a5ce9-b411-4924-8d64-36fd22d95552",
   "metadata": {},
   "outputs": [
    {
     "data": {
      "text/html": [
       "<div>\n",
       "<style scoped>\n",
       "    .dataframe tbody tr th:only-of-type {\n",
       "        vertical-align: middle;\n",
       "    }\n",
       "\n",
       "    .dataframe tbody tr th {\n",
       "        vertical-align: top;\n",
       "    }\n",
       "\n",
       "    .dataframe thead th {\n",
       "        text-align: right;\n",
       "    }\n",
       "</style>\n",
       "<table border=\"1\" class=\"dataframe\">\n",
       "  <thead>\n",
       "    <tr style=\"text-align: right;\">\n",
       "      <th></th>\n",
       "      <th>source</th>\n",
       "      <th>domain</th>\n",
       "      <th>has_path</th>\n",
       "    </tr>\n",
       "  </thead>\n",
       "  <tbody>\n",
       "    <tr>\n",
       "      <th>234</th>\n",
       "      <td>https://www.facebook.com/news</td>\n",
       "      <td>facebook.com</td>\n",
       "      <td>True</td>\n",
       "    </tr>\n",
       "    <tr>\n",
       "      <th>2847</th>\n",
       "      <td>https://www.facebook.com/WOMENSRIGHTSNEWS/</td>\n",
       "      <td>facebook.com</td>\n",
       "      <td>True</td>\n",
       "    </tr>\n",
       "  </tbody>\n",
       "</table>\n",
       "</div>"
      ],
      "text/plain": [
       "                                          source        domain  has_path\n",
       "234                https://www.facebook.com/news  facebook.com      True\n",
       "2847  https://www.facebook.com/WOMENSRIGHTSNEWS/  facebook.com      True"
      ]
     },
     "execution_count": 82,
     "metadata": {},
     "output_type": "execute_result"
    }
   ],
   "source": [
    "temp_df.query(\"domain == 'facebook.com'\")"
   ]
  },
  {
   "cell_type": "code",
   "execution_count": 74,
   "id": "022269f1-b719-4f96-87c1-701618aa6729",
   "metadata": {},
   "outputs": [
    {
     "data": {
      "text/plain": [
       "'/news'"
      ]
     },
     "execution_count": 74,
     "metadata": {},
     "output_type": "execute_result"
    }
   ],
   "source": [
    "parsed_url.path"
   ]
  },
  {
   "cell_type": "code",
   "execution_count": 41,
   "id": "34fab177-074d-4885-a2de-728a2bb826f4",
   "metadata": {},
   "outputs": [
    {
     "name": "stdout",
     "output_type": "stream",
     "text": [
      "nan\n",
      "nan\n"
     ]
    }
   ],
   "source": [
    "for source in mbfc_df.source:\n",
    "    try:\n",
    "        has_path(source)\n",
    "    except:\n",
    "        print(source)"
   ]
  },
  {
   "cell_type": "code",
   "execution_count": 36,
   "id": "49df4199-0e97-4867-af96-bdbc0c62bb42",
   "metadata": {},
   "outputs": [
    {
     "data": {
      "text/plain": [
       "True"
      ]
     },
     "execution_count": 36,
     "metadata": {},
     "output_type": "execute_result"
    }
   ],
   "source": [
    "not parsed_url.path"
   ]
  },
  {
   "cell_type": "code",
   "execution_count": 22,
   "id": "ad5cbcda-cf31-4163-9ace-ca79a65334f9",
   "metadata": {},
   "outputs": [
    {
     "data": {
      "text/html": [
       "<div>\n",
       "<style scoped>\n",
       "    .dataframe tbody tr th:only-of-type {\n",
       "        vertical-align: middle;\n",
       "    }\n",
       "\n",
       "    .dataframe tbody tr th {\n",
       "        vertical-align: top;\n",
       "    }\n",
       "\n",
       "    .dataframe thead th {\n",
       "        text-align: right;\n",
       "    }\n",
       "</style>\n",
       "<table border=\"1\" class=\"dataframe\">\n",
       "  <thead>\n",
       "    <tr style=\"text-align: right;\">\n",
       "      <th></th>\n",
       "      <th>page</th>\n",
       "      <th>mbfclink</th>\n",
       "      <th>bias_rating</th>\n",
       "      <th>factual_reporting</th>\n",
       "      <th>country</th>\n",
       "      <th>media_type</th>\n",
       "      <th>trafficpopularity</th>\n",
       "      <th>credibility_rating</th>\n",
       "      <th>source</th>\n",
       "      <th>domain</th>\n",
       "      <th>leaning</th>\n",
       "      <th>press_freedom_rank</th>\n",
       "    </tr>\n",
       "  </thead>\n",
       "  <tbody>\n",
       "    <tr>\n",
       "      <th>0</th>\n",
       "      <td>100 Mile Free Press</td>\n",
       "      <td>https://mediabiasfactcheck.com/100-mile-free-p...</td>\n",
       "      <td>LEFT-CENTER</td>\n",
       "      <td>HIGH</td>\n",
       "      <td>Canada</td>\n",
       "      <td>Newspaper</td>\n",
       "      <td>Minimal Traffic</td>\n",
       "      <td>HIGH CREDIBILITY</td>\n",
       "      <td>https://www.100milefreepress.net/</td>\n",
       "      <td>100milefreepress.net</td>\n",
       "      <td>leftcenter</td>\n",
       "      <td>NaN</td>\n",
       "    </tr>\n",
       "    <tr>\n",
       "      <th>1</th>\n",
       "      <td>604 Now</td>\n",
       "      <td>https://mediabiasfactcheck.com/604-now/</td>\n",
       "      <td>LEFT-CENTER</td>\n",
       "      <td>MOSTLY FACTUAL</td>\n",
       "      <td>Canada</td>\n",
       "      <td>Newspaper</td>\n",
       "      <td>Medium Traffic</td>\n",
       "      <td>HIGH CREDIBILITY</td>\n",
       "      <td>https://604now.com/</td>\n",
       "      <td>604now.com</td>\n",
       "      <td>leftcenter</td>\n",
       "      <td>NaN</td>\n",
       "    </tr>\n",
       "    <tr>\n",
       "      <th>2</th>\n",
       "      <td>972 Magazine</td>\n",
       "      <td>https://mediabiasfactcheck.com/972-magazine/</td>\n",
       "      <td>LEFT-CENTER</td>\n",
       "      <td>HIGH</td>\n",
       "      <td>USA</td>\n",
       "      <td>Website</td>\n",
       "      <td>Minimal Traffic</td>\n",
       "      <td>HIGH CREDIBILITY</td>\n",
       "      <td>https://972mag.com/</td>\n",
       "      <td>972mag.com</td>\n",
       "      <td>leftcenter</td>\n",
       "      <td>NaN</td>\n",
       "    </tr>\n",
       "    <tr>\n",
       "      <th>3</th>\n",
       "      <td>1600 Daily</td>\n",
       "      <td>https://mediabiasfactcheck.com/1600-daily/</td>\n",
       "      <td>NaN</td>\n",
       "      <td>MOSTLY FACTUAL</td>\n",
       "      <td>USA</td>\n",
       "      <td>NaN</td>\n",
       "      <td>NaN</td>\n",
       "      <td>NaN</td>\n",
       "      <td>https://www.whitehouse.gov/1600daily</td>\n",
       "      <td>whitehouse.gov</td>\n",
       "      <td>leftcenter</td>\n",
       "      <td>NaN</td>\n",
       "    </tr>\n",
       "    <tr>\n",
       "      <th>4</th>\n",
       "      <td>ABC News</td>\n",
       "      <td>https://mediabiasfactcheck.com/abc-news/</td>\n",
       "      <td>LEFT-CENTER</td>\n",
       "      <td>HIGH</td>\n",
       "      <td>USA</td>\n",
       "      <td>TV Station</td>\n",
       "      <td>High Traffic</td>\n",
       "      <td>HIGH CREDIBILITY</td>\n",
       "      <td>https://abcnews.go.com</td>\n",
       "      <td>abcnews.go.com</td>\n",
       "      <td>leftcenter</td>\n",
       "      <td>NaN</td>\n",
       "    </tr>\n",
       "    <tr>\n",
       "      <th>...</th>\n",
       "      <td>...</td>\n",
       "      <td>...</td>\n",
       "      <td>...</td>\n",
       "      <td>...</td>\n",
       "      <td>...</td>\n",
       "      <td>...</td>\n",
       "      <td>...</td>\n",
       "      <td>...</td>\n",
       "      <td>...</td>\n",
       "      <td>...</td>\n",
       "      <td>...</td>\n",
       "      <td>...</td>\n",
       "    </tr>\n",
       "    <tr>\n",
       "      <th>4416</th>\n",
       "      <td>World Socialist Web Site</td>\n",
       "      <td>https://mediabiasfactcheck.com/world-socialist...</td>\n",
       "      <td>LEFT</td>\n",
       "      <td>MOSTLY FACTUAL</td>\n",
       "      <td>USA (44/180 Press Freedom)</td>\n",
       "      <td>Website</td>\n",
       "      <td>Medium Traffic</td>\n",
       "      <td>HIGH CREDIBILITY</td>\n",
       "      <td>https://www.wsws.org</td>\n",
       "      <td>wsws.org</td>\n",
       "      <td>left</td>\n",
       "      <td>NaN</td>\n",
       "    </tr>\n",
       "    <tr>\n",
       "      <th>4417</th>\n",
       "      <td>Yes Magazine</td>\n",
       "      <td>https://mediabiasfactcheck.com/yes-magazine/</td>\n",
       "      <td>LEFT</td>\n",
       "      <td>HIGH</td>\n",
       "      <td>USA</td>\n",
       "      <td>Magazine</td>\n",
       "      <td>Medium Traffic</td>\n",
       "      <td>HIGH CREDIBILITY</td>\n",
       "      <td>https://www.yesmagazine.org</td>\n",
       "      <td>yesmagazine.org</td>\n",
       "      <td>left</td>\n",
       "      <td>NaN</td>\n",
       "    </tr>\n",
       "    <tr>\n",
       "      <th>4418</th>\n",
       "      <td>Young Turks</td>\n",
       "      <td>https://mediabiasfactcheck.com/the-young-turks/</td>\n",
       "      <td>LEFT</td>\n",
       "      <td>MIXED</td>\n",
       "      <td>USA</td>\n",
       "      <td>TV Station</td>\n",
       "      <td>High Traffic</td>\n",
       "      <td>MEDIUM CREDIBILITY</td>\n",
       "      <td>https://tyt.com/</td>\n",
       "      <td>tyt.com</td>\n",
       "      <td>left</td>\n",
       "      <td>NaN</td>\n",
       "    </tr>\n",
       "    <tr>\n",
       "      <th>4419</th>\n",
       "      <td>Your Black World</td>\n",
       "      <td>https://mediabiasfactcheck.com/your-black-world/</td>\n",
       "      <td>LEFT</td>\n",
       "      <td>MIXED</td>\n",
       "      <td>USA</td>\n",
       "      <td>NaN</td>\n",
       "      <td>NaN</td>\n",
       "      <td>NaN</td>\n",
       "      <td>http://yourblackworld.net</td>\n",
       "      <td>yourblackworld.net</td>\n",
       "      <td>left</td>\n",
       "      <td>NaN</td>\n",
       "    </tr>\n",
       "    <tr>\n",
       "      <th>4420</th>\n",
       "      <td>Z Magazine</td>\n",
       "      <td>https://mediabiasfactcheck.com/z-magazine/</td>\n",
       "      <td>LEFT</td>\n",
       "      <td>HIGH</td>\n",
       "      <td>USA</td>\n",
       "      <td>NaN</td>\n",
       "      <td>NaN</td>\n",
       "      <td>NaN</td>\n",
       "      <td>https://zcomm.org/zmag/</td>\n",
       "      <td>NaN</td>\n",
       "      <td>left</td>\n",
       "      <td>NaN</td>\n",
       "    </tr>\n",
       "  </tbody>\n",
       "</table>\n",
       "<p>4421 rows × 12 columns</p>\n",
       "</div>"
      ],
      "text/plain": [
       "                          page  \\\n",
       "0          100 Mile Free Press   \n",
       "1                      604 Now   \n",
       "2                 972 Magazine   \n",
       "3                   1600 Daily   \n",
       "4                     ABC News   \n",
       "...                        ...   \n",
       "4416  World Socialist Web Site   \n",
       "4417              Yes Magazine   \n",
       "4418               Young Turks   \n",
       "4419          Your Black World   \n",
       "4420                Z Magazine   \n",
       "\n",
       "                                               mbfclink  bias_rating  \\\n",
       "0     https://mediabiasfactcheck.com/100-mile-free-p...  LEFT-CENTER   \n",
       "1               https://mediabiasfactcheck.com/604-now/  LEFT-CENTER   \n",
       "2          https://mediabiasfactcheck.com/972-magazine/  LEFT-CENTER   \n",
       "3            https://mediabiasfactcheck.com/1600-daily/          NaN   \n",
       "4              https://mediabiasfactcheck.com/abc-news/  LEFT-CENTER   \n",
       "...                                                 ...          ...   \n",
       "4416  https://mediabiasfactcheck.com/world-socialist...         LEFT   \n",
       "4417       https://mediabiasfactcheck.com/yes-magazine/         LEFT   \n",
       "4418    https://mediabiasfactcheck.com/the-young-turks/         LEFT   \n",
       "4419   https://mediabiasfactcheck.com/your-black-world/         LEFT   \n",
       "4420         https://mediabiasfactcheck.com/z-magazine/         LEFT   \n",
       "\n",
       "     factual_reporting                     country  media_type  \\\n",
       "0                 HIGH                      Canada   Newspaper   \n",
       "1       MOSTLY FACTUAL                      Canada   Newspaper   \n",
       "2                 HIGH                         USA     Website   \n",
       "3       MOSTLY FACTUAL                         USA         NaN   \n",
       "4                 HIGH                         USA  TV Station   \n",
       "...                ...                         ...         ...   \n",
       "4416    MOSTLY FACTUAL  USA (44/180 Press Freedom)     Website   \n",
       "4417              HIGH                         USA    Magazine   \n",
       "4418             MIXED                         USA  TV Station   \n",
       "4419             MIXED                         USA         NaN   \n",
       "4420              HIGH                         USA         NaN   \n",
       "\n",
       "     trafficpopularity  credibility_rating  \\\n",
       "0      Minimal Traffic    HIGH CREDIBILITY   \n",
       "1       Medium Traffic    HIGH CREDIBILITY   \n",
       "2      Minimal Traffic    HIGH CREDIBILITY   \n",
       "3                  NaN                 NaN   \n",
       "4         High Traffic    HIGH CREDIBILITY   \n",
       "...                ...                 ...   \n",
       "4416    Medium Traffic    HIGH CREDIBILITY   \n",
       "4417    Medium Traffic    HIGH CREDIBILITY   \n",
       "4418      High Traffic  MEDIUM CREDIBILITY   \n",
       "4419               NaN                 NaN   \n",
       "4420               NaN                 NaN   \n",
       "\n",
       "                                    source                domain     leaning  \\\n",
       "0        https://www.100milefreepress.net/  100milefreepress.net  leftcenter   \n",
       "1                      https://604now.com/            604now.com  leftcenter   \n",
       "2                      https://972mag.com/            972mag.com  leftcenter   \n",
       "3     https://www.whitehouse.gov/1600daily        whitehouse.gov  leftcenter   \n",
       "4                   https://abcnews.go.com        abcnews.go.com  leftcenter   \n",
       "...                                    ...                   ...         ...   \n",
       "4416                  https://www.wsws.org              wsws.org        left   \n",
       "4417           https://www.yesmagazine.org       yesmagazine.org        left   \n",
       "4418                      https://tyt.com/               tyt.com        left   \n",
       "4419             http://yourblackworld.net    yourblackworld.net        left   \n",
       "4420               https://zcomm.org/zmag/                   NaN        left   \n",
       "\n",
       "     press_freedom_rank  \n",
       "0                   NaN  \n",
       "1                   NaN  \n",
       "2                   NaN  \n",
       "3                   NaN  \n",
       "4                   NaN  \n",
       "...                 ...  \n",
       "4416                NaN  \n",
       "4417                NaN  \n",
       "4418                NaN  \n",
       "4419                NaN  \n",
       "4420                NaN  \n",
       "\n",
       "[4421 rows x 12 columns]"
      ]
     },
     "execution_count": 22,
     "metadata": {},
     "output_type": "execute_result"
    }
   ],
   "source": [
    "mbfc_df"
   ]
  },
  {
   "cell_type": "code",
   "execution_count": null,
   "id": "1156f5bf-77e6-4b3c-be30-fe31c9b372b0",
   "metadata": {},
   "outputs": [],
   "source": []
  },
  {
   "cell_type": "code",
   "execution_count": 6,
   "id": "675e1374-adba-4851-ba0b-e60b285ff3a0",
   "metadata": {},
   "outputs": [
    {
     "data": {
      "text/plain": [
       "4421"
      ]
     },
     "execution_count": 6,
     "metadata": {},
     "output_type": "execute_result"
    }
   ],
   "source": [
    "len(mbfc_df)"
   ]
  },
  {
   "cell_type": "code",
   "execution_count": 7,
   "id": "c87975cf-d5a4-4186-8f8f-834cd666f421",
   "metadata": {},
   "outputs": [],
   "source": [
    "mbfc_df.dropna(inplace=True)"
   ]
  },
  {
   "cell_type": "code",
   "execution_count": 9,
   "id": "f5821407-4b70-4d04-8be1-21cf38e23982",
   "metadata": {},
   "outputs": [
    {
     "data": {
      "text/plain": [
       "4416"
      ]
     },
     "execution_count": 9,
     "metadata": {},
     "output_type": "execute_result"
    }
   ],
   "source": [
    "len(mbfc_df)"
   ]
  },
  {
   "cell_type": "code",
   "execution_count": 10,
   "id": "ed9b2549-6ff5-4869-b79c-481329818d14",
   "metadata": {},
   "outputs": [],
   "source": [
    "mbfc_df['domain'] = mbfc_df.domain.str.lower()"
   ]
  },
  {
   "cell_type": "code",
   "execution_count": 12,
   "id": "f3635272-8475-4368-a270-960be06ab7b7",
   "metadata": {},
   "outputs": [],
   "source": [
    "mbfc_df.drop_duplicates(inplace=True)"
   ]
  },
  {
   "cell_type": "code",
   "execution_count": 13,
   "id": "ec20caa3-79b7-4231-82d6-01e4d1c4c85d",
   "metadata": {},
   "outputs": [
    {
     "data": {
      "text/plain": [
       "4275"
      ]
     },
     "execution_count": 13,
     "metadata": {},
     "output_type": "execute_result"
    }
   ],
   "source": [
    "len(mbfc_df)"
   ]
  },
  {
   "cell_type": "code",
   "execution_count": 17,
   "id": "95f0c114-6a61-4cf3-be03-76ef0046535c",
   "metadata": {},
   "outputs": [
    {
     "data": {
      "text/html": [
       "<div>\n",
       "<style scoped>\n",
       "    .dataframe tbody tr th:only-of-type {\n",
       "        vertical-align: middle;\n",
       "    }\n",
       "\n",
       "    .dataframe tbody tr th {\n",
       "        vertical-align: top;\n",
       "    }\n",
       "\n",
       "    .dataframe thead th {\n",
       "        text-align: right;\n",
       "    }\n",
       "</style>\n",
       "<table border=\"1\" class=\"dataframe\">\n",
       "  <thead>\n",
       "    <tr style=\"text-align: right;\">\n",
       "      <th></th>\n",
       "      <th>domain</th>\n",
       "    </tr>\n",
       "  </thead>\n",
       "  <tbody>\n",
       "  </tbody>\n",
       "</table>\n",
       "</div>"
      ],
      "text/plain": [
       "Empty DataFrame\n",
       "Columns: [domain]\n",
       "Index: []"
      ]
     },
     "execution_count": 17,
     "metadata": {},
     "output_type": "execute_result"
    }
   ],
   "source": [
    "mbfc_df[mbfc_df.domain.str.contains(\"/\")]"
   ]
  },
  {
   "cell_type": "code",
   "execution_count": 16,
   "id": "3f40c7dc-9246-4534-990f-97439c3c566e",
   "metadata": {},
   "outputs": [],
   "source": [
    "mbfc_df['domain'] = mbfc_df.domain.str.replace(\"/\", \"\")"
   ]
  },
  {
   "cell_type": "code",
   "execution_count": 18,
   "id": "9daf759c-0ff5-4aae-8211-bce60552531e",
   "metadata": {},
   "outputs": [
    {
     "data": {
      "text/html": [
       "<div>\n",
       "<style scoped>\n",
       "    .dataframe tbody tr th:only-of-type {\n",
       "        vertical-align: middle;\n",
       "    }\n",
       "\n",
       "    .dataframe tbody tr th {\n",
       "        vertical-align: top;\n",
       "    }\n",
       "\n",
       "    .dataframe thead th {\n",
       "        text-align: right;\n",
       "    }\n",
       "</style>\n",
       "<table border=\"1\" class=\"dataframe\">\n",
       "  <thead>\n",
       "    <tr style=\"text-align: right;\">\n",
       "      <th></th>\n",
       "      <th>domain</th>\n",
       "    </tr>\n",
       "  </thead>\n",
       "  <tbody>\n",
       "    <tr>\n",
       "      <th>0</th>\n",
       "      <td>100milefreepress.net</td>\n",
       "    </tr>\n",
       "    <tr>\n",
       "      <th>1</th>\n",
       "      <td>604now.com</td>\n",
       "    </tr>\n",
       "    <tr>\n",
       "      <th>2</th>\n",
       "      <td>972mag.com</td>\n",
       "    </tr>\n",
       "    <tr>\n",
       "      <th>3</th>\n",
       "      <td>whitehouse.gov</td>\n",
       "    </tr>\n",
       "    <tr>\n",
       "      <th>4</th>\n",
       "      <td>abcnews.go.com</td>\n",
       "    </tr>\n",
       "    <tr>\n",
       "      <th>...</th>\n",
       "      <td>...</td>\n",
       "    </tr>\n",
       "    <tr>\n",
       "      <th>4415</th>\n",
       "      <td>workers.org</td>\n",
       "    </tr>\n",
       "    <tr>\n",
       "      <th>4416</th>\n",
       "      <td>wsws.org</td>\n",
       "    </tr>\n",
       "    <tr>\n",
       "      <th>4417</th>\n",
       "      <td>yesmagazine.org</td>\n",
       "    </tr>\n",
       "    <tr>\n",
       "      <th>4418</th>\n",
       "      <td>tyt.com</td>\n",
       "    </tr>\n",
       "    <tr>\n",
       "      <th>4419</th>\n",
       "      <td>yourblackworld.net</td>\n",
       "    </tr>\n",
       "  </tbody>\n",
       "</table>\n",
       "<p>4275 rows × 1 columns</p>\n",
       "</div>"
      ],
      "text/plain": [
       "                    domain\n",
       "0     100milefreepress.net\n",
       "1               604now.com\n",
       "2               972mag.com\n",
       "3           whitehouse.gov\n",
       "4           abcnews.go.com\n",
       "...                    ...\n",
       "4415           workers.org\n",
       "4416              wsws.org\n",
       "4417       yesmagazine.org\n",
       "4418               tyt.com\n",
       "4419    yourblackworld.net\n",
       "\n",
       "[4275 rows x 1 columns]"
      ]
     },
     "execution_count": 18,
     "metadata": {},
     "output_type": "execute_result"
    }
   ],
   "source": [
    "mbfc_df"
   ]
  },
  {
   "cell_type": "markdown",
   "id": "01ec1106-5078-4f1f-a8bd-d133cf29cd86",
   "metadata": {},
   "source": [
    "# Robterson"
   ]
  },
  {
   "cell_type": "code",
   "execution_count": 15,
   "id": "b3c3bc9e-f4e1-410e-9edd-1bd7a8f78b1c",
   "metadata": {},
   "outputs": [],
   "source": [
    "robertson_df = pd.read_csv(\"../data/raw_data/robertson_domains.tsv\", sep='\\t', usecols=['domain', 'news_is_news'])"
   ]
  },
  {
   "cell_type": "code",
   "execution_count": 16,
   "id": "04b6233a-22f9-45c9-8abe-117b9e86e45c",
   "metadata": {},
   "outputs": [],
   "source": [
    "robertson_df = robertson_df[robertson_df.news_is_news.notna()].copy()"
   ]
  },
  {
   "cell_type": "code",
   "execution_count": 17,
   "id": "2b50f24b-d8dd-4ddb-bc8a-666ff721b5f4",
   "metadata": {},
   "outputs": [],
   "source": [
    "robertson_df['is_news'] = robertson_df.news_is_news.astype(int)"
   ]
  },
  {
   "cell_type": "code",
   "execution_count": 18,
   "id": "84ca6564-8c5c-4bcf-a064-dc6769993018",
   "metadata": {},
   "outputs": [],
   "source": [
    "robertson_df = robertson_df[robertson_df.is_news == 1][['domain']].copy()"
   ]
  },
  {
   "cell_type": "code",
   "execution_count": 19,
   "id": "6ede2e71-321f-47fc-942e-8f9b16ff846a",
   "metadata": {},
   "outputs": [],
   "source": [
    "robertson_df['domain'] = robertson_df['domain'].str.lower()"
   ]
  },
  {
   "cell_type": "code",
   "execution_count": 71,
   "id": "f1064cf8-558b-4352-bd78-a1fc4a7cb019",
   "metadata": {},
   "outputs": [
    {
     "data": {
      "text/html": [
       "<div>\n",
       "<style scoped>\n",
       "    .dataframe tbody tr th:only-of-type {\n",
       "        vertical-align: middle;\n",
       "    }\n",
       "\n",
       "    .dataframe tbody tr th {\n",
       "        vertical-align: top;\n",
       "    }\n",
       "\n",
       "    .dataframe thead th {\n",
       "        text-align: right;\n",
       "    }\n",
       "</style>\n",
       "<table border=\"1\" class=\"dataframe\">\n",
       "  <thead>\n",
       "    <tr style=\"text-align: right;\">\n",
       "      <th></th>\n",
       "      <th>domain</th>\n",
       "    </tr>\n",
       "  </thead>\n",
       "  <tbody>\n",
       "  </tbody>\n",
       "</table>\n",
       "</div>"
      ],
      "text/plain": [
       "Empty DataFrame\n",
       "Columns: [domain]\n",
       "Index: []"
      ]
     },
     "execution_count": 71,
     "metadata": {},
     "output_type": "execute_result"
    }
   ],
   "source": [
    "robertson_df[robertson_df.domain.str.contains(\"/\")]"
   ]
  },
  {
   "cell_type": "code",
   "execution_count": 20,
   "id": "e3d94b44-01d5-40f0-a983-91fa1b9ec883",
   "metadata": {},
   "outputs": [
    {
     "data": {
      "text/html": [
       "<div>\n",
       "<style scoped>\n",
       "    .dataframe tbody tr th:only-of-type {\n",
       "        vertical-align: middle;\n",
       "    }\n",
       "\n",
       "    .dataframe tbody tr th {\n",
       "        vertical-align: top;\n",
       "    }\n",
       "\n",
       "    .dataframe thead th {\n",
       "        text-align: right;\n",
       "    }\n",
       "</style>\n",
       "<table border=\"1\" class=\"dataframe\">\n",
       "  <thead>\n",
       "    <tr style=\"text-align: right;\">\n",
       "      <th></th>\n",
       "      <th>domain</th>\n",
       "    </tr>\n",
       "  </thead>\n",
       "  <tbody>\n",
       "  </tbody>\n",
       "</table>\n",
       "</div>"
      ],
      "text/plain": [
       "Empty DataFrame\n",
       "Columns: [domain]\n",
       "Index: []"
      ]
     },
     "execution_count": 20,
     "metadata": {},
     "output_type": "execute_result"
    }
   ],
   "source": [
    "robertson_df.query(\"domain == 'valleytimes'\")"
   ]
  },
  {
   "cell_type": "code",
   "execution_count": 72,
   "id": "d1c1acb3-d7d5-4f28-9208-cd72023b8666",
   "metadata": {},
   "outputs": [],
   "source": [
    "robertson_df['suffix'] = robertson_df.domain.apply(extract_suffix)"
   ]
  },
  {
   "cell_type": "code",
   "execution_count": 73,
   "id": "938a4eab-5959-42cc-8186-7456ff4ca157",
   "metadata": {},
   "outputs": [
    {
     "data": {
      "text/plain": [
       "suffix\n",
       "com        6662\n",
       "org         348\n",
       "net         272\n",
       "edu          72\n",
       "tv           65\n",
       "us           27\n",
       "co           22\n",
       "info         14\n",
       "news         12\n",
       "co.uk        11\n",
       "gov           9\n",
       "biz           7\n",
       "me            4\n",
       "com.co        4\n",
       "ca            4\n",
       "com.mx        3\n",
       "ms            3\n",
       "fr            2\n",
       "coop          2\n",
       "to            2\n",
       "today         2\n",
       "ly            2\n",
       "is            2\n",
       "cc            2\n",
       "tk            2\n",
       "de            2\n",
       "ng            1\n",
       "ms.us         1\n",
       "ir            1\n",
       "fm            1\n",
       "io            1\n",
       "mn            1\n",
       "co.za         1\n",
       "media         1\n",
       "site          1\n",
       "es            1\n",
       "wy.us         1\n",
       "nj.us         1\n",
       "travel        1\n",
       "id.us         1\n",
       "rs            1\n",
       "ag            1\n",
       "ee            1\n",
       "website       1\n",
       "link          1\n",
       "co.il         1\n",
       "in            1\n",
       "co.jp         1\n",
       "sc            1\n",
       "world         1\n",
       "buzz          1\n",
       "Name: count, dtype: int64"
      ]
     },
     "execution_count": 73,
     "metadata": {},
     "output_type": "execute_result"
    }
   ],
   "source": [
    "robertson_df.suffix.value_counts()"
   ]
  },
  {
   "cell_type": "code",
   "execution_count": 78,
   "id": "dacb717b-66e3-44f8-acbc-4cbcf8da54b9",
   "metadata": {},
   "outputs": [
    {
     "data": {
      "text/plain": [
       "domain\n",
       "1.001.free.fr                 1\n",
       "rockfordsquire.com            1\n",
       "rollingthunderexpress.com     1\n",
       "rollingstone.com              1\n",
       "rollcall.com                  1\n",
       "                             ..\n",
       "hutchnews.com                 1\n",
       "huskers.com                   1\n",
       "hurherald.com                 1\n",
       "huntnewsnu.com                1\n",
       "woundedamericanwarrior.com    1\n",
       "Name: count, Length: 7582, dtype: int64"
      ]
     },
     "execution_count": 78,
     "metadata": {},
     "output_type": "execute_result"
    }
   ],
   "source": [
    "robertson_df.domain.value_counts()"
   ]
  },
  {
   "cell_type": "code",
   "execution_count": 79,
   "id": "93dbfbdb-d4f0-4691-a52b-7b0cc12c91e5",
   "metadata": {},
   "outputs": [
    {
     "data": {
      "text/plain": [
       "7582"
      ]
     },
     "execution_count": 79,
     "metadata": {},
     "output_type": "execute_result"
    }
   ],
   "source": [
    "len(robertson_df)"
   ]
  },
  {
   "cell_type": "code",
   "execution_count": 76,
   "id": "965a22ad-08f1-42a9-97d3-6e2fb83b6018",
   "metadata": {},
   "outputs": [
    {
     "data": {
      "text/html": [
       "<div>\n",
       "<style scoped>\n",
       "    .dataframe tbody tr th:only-of-type {\n",
       "        vertical-align: middle;\n",
       "    }\n",
       "\n",
       "    .dataframe tbody tr th {\n",
       "        vertical-align: top;\n",
       "    }\n",
       "\n",
       "    .dataframe thead th {\n",
       "        text-align: right;\n",
       "    }\n",
       "</style>\n",
       "<table border=\"1\" class=\"dataframe\">\n",
       "  <thead>\n",
       "    <tr style=\"text-align: right;\">\n",
       "      <th></th>\n",
       "      <th>domain</th>\n",
       "      <th>suffix</th>\n",
       "    </tr>\n",
       "  </thead>\n",
       "  <tbody>\n",
       "    <tr>\n",
       "      <th>13058</th>\n",
       "      <td>personaldefenseworld.com.via.snip.ly</td>\n",
       "      <td>ly</td>\n",
       "    </tr>\n",
       "    <tr>\n",
       "      <th>18821</th>\n",
       "      <td>usat.ly</td>\n",
       "      <td>ly</td>\n",
       "    </tr>\n",
       "  </tbody>\n",
       "</table>\n",
       "</div>"
      ],
      "text/plain": [
       "                                     domain suffix\n",
       "13058  personaldefenseworld.com.via.snip.ly     ly\n",
       "18821                               usat.ly     ly"
      ]
     },
     "execution_count": 76,
     "metadata": {},
     "output_type": "execute_result"
    }
   ],
   "source": [
    "robertson_df.query(\"suffix == 'ly'\")"
   ]
  },
  {
   "cell_type": "code",
   "execution_count": 49,
   "id": "52ccafdf-c6ef-4a48-8b0f-8550afcf3a2a",
   "metadata": {},
   "outputs": [
    {
     "data": {
      "text/plain": [
       "news_is_news\n",
       "0.0    13207\n",
       "1.0     7582\n",
       "Name: count, dtype: int64"
      ]
     },
     "execution_count": 49,
     "metadata": {},
     "output_type": "execute_result"
    }
   ],
   "source": [
    "robertson_df.news_is_news.value_counts()"
   ]
  },
  {
   "cell_type": "code",
   "execution_count": 52,
   "id": "a2040e22-862e-4dc4-b640-bd5235e40d00",
   "metadata": {},
   "outputs": [
    {
     "data": {
      "text/html": [
       "<div>\n",
       "<style scoped>\n",
       "    .dataframe tbody tr th:only-of-type {\n",
       "        vertical-align: middle;\n",
       "    }\n",
       "\n",
       "    .dataframe tbody tr th {\n",
       "        vertical-align: top;\n",
       "    }\n",
       "\n",
       "    .dataframe thead th {\n",
       "        text-align: right;\n",
       "    }\n",
       "</style>\n",
       "<table border=\"1\" class=\"dataframe\">\n",
       "  <thead>\n",
       "    <tr style=\"text-align: right;\">\n",
       "      <th></th>\n",
       "      <th>domain</th>\n",
       "      <th>news_fakenews_proj</th>\n",
       "      <th>news_googlenews</th>\n",
       "      <th>news_manual</th>\n",
       "      <th>news_tvnews_data</th>\n",
       "      <th>news_bakshy</th>\n",
       "      <th>news_yin</th>\n",
       "      <th>news_n</th>\n",
       "      <th>news_is_news</th>\n",
       "      <th>bias_score</th>\n",
       "      <th>bias_rounded_n_shares</th>\n",
       "      <th>bias_rounded_n_accts</th>\n",
       "      <th>bias_fb_score</th>\n",
       "      <th>bias_mturk_score</th>\n",
       "      <th>bias_budak_score</th>\n",
       "      <th>bias_allsides_score</th>\n",
       "      <th>bias_allsides_score_community</th>\n",
       "      <th>bias_pew_score</th>\n",
       "      <th>fn_color</th>\n",
       "      <th>fn_is_fake</th>\n",
       "    </tr>\n",
       "  </thead>\n",
       "  <tbody>\n",
       "    <tr>\n",
       "      <th>0</th>\n",
       "      <td>007.com</td>\n",
       "      <td>NaN</td>\n",
       "      <td>0.0</td>\n",
       "      <td>NaN</td>\n",
       "      <td>NaN</td>\n",
       "      <td>NaN</td>\n",
       "      <td>NaN</td>\n",
       "      <td>0.0</td>\n",
       "      <td>0.0</td>\n",
       "      <td>0.0948</td>\n",
       "      <td>100.0</td>\n",
       "      <td>100.0</td>\n",
       "      <td>NaN</td>\n",
       "      <td>NaN</td>\n",
       "      <td>NaN</td>\n",
       "      <td>NaN</td>\n",
       "      <td>NaN</td>\n",
       "      <td>NaN</td>\n",
       "      <td>NaN</td>\n",
       "      <td>NaN</td>\n",
       "    </tr>\n",
       "    <tr>\n",
       "      <th>2</th>\n",
       "      <td>100isnow.com</td>\n",
       "      <td>NaN</td>\n",
       "      <td>0.0</td>\n",
       "      <td>NaN</td>\n",
       "      <td>NaN</td>\n",
       "      <td>NaN</td>\n",
       "      <td>NaN</td>\n",
       "      <td>0.0</td>\n",
       "      <td>0.0</td>\n",
       "      <td>-0.7228</td>\n",
       "      <td>100.0</td>\n",
       "      <td>100.0</td>\n",
       "      <td>NaN</td>\n",
       "      <td>NaN</td>\n",
       "      <td>NaN</td>\n",
       "      <td>NaN</td>\n",
       "      <td>NaN</td>\n",
       "      <td>NaN</td>\n",
       "      <td>NaN</td>\n",
       "      <td>NaN</td>\n",
       "    </tr>\n",
       "    <tr>\n",
       "      <th>4</th>\n",
       "      <td>100photos.time.com</td>\n",
       "      <td>NaN</td>\n",
       "      <td>0.0</td>\n",
       "      <td>NaN</td>\n",
       "      <td>NaN</td>\n",
       "      <td>NaN</td>\n",
       "      <td>NaN</td>\n",
       "      <td>0.0</td>\n",
       "      <td>0.0</td>\n",
       "      <td>NaN</td>\n",
       "      <td>NaN</td>\n",
       "      <td>NaN</td>\n",
       "      <td>NaN</td>\n",
       "      <td>NaN</td>\n",
       "      <td>NaN</td>\n",
       "      <td>NaN</td>\n",
       "      <td>NaN</td>\n",
       "      <td>NaN</td>\n",
       "      <td>NaN</td>\n",
       "      <td>NaN</td>\n",
       "    </tr>\n",
       "    <tr>\n",
       "      <th>5</th>\n",
       "      <td>1011now.com</td>\n",
       "      <td>NaN</td>\n",
       "      <td>1.0</td>\n",
       "      <td>NaN</td>\n",
       "      <td>NaN</td>\n",
       "      <td>NaN</td>\n",
       "      <td>NaN</td>\n",
       "      <td>0.0</td>\n",
       "      <td>0.0</td>\n",
       "      <td>0.5387</td>\n",
       "      <td>1700.0</td>\n",
       "      <td>500.0</td>\n",
       "      <td>NaN</td>\n",
       "      <td>NaN</td>\n",
       "      <td>NaN</td>\n",
       "      <td>NaN</td>\n",
       "      <td>NaN</td>\n",
       "      <td>NaN</td>\n",
       "      <td>NaN</td>\n",
       "      <td>NaN</td>\n",
       "    </tr>\n",
       "    <tr>\n",
       "      <th>6</th>\n",
       "      <td>101greatgoals.com</td>\n",
       "      <td>NaN</td>\n",
       "      <td>1.0</td>\n",
       "      <td>NaN</td>\n",
       "      <td>NaN</td>\n",
       "      <td>NaN</td>\n",
       "      <td>NaN</td>\n",
       "      <td>0.0</td>\n",
       "      <td>0.0</td>\n",
       "      <td>-0.1426</td>\n",
       "      <td>300.0</td>\n",
       "      <td>100.0</td>\n",
       "      <td>NaN</td>\n",
       "      <td>NaN</td>\n",
       "      <td>NaN</td>\n",
       "      <td>NaN</td>\n",
       "      <td>NaN</td>\n",
       "      <td>NaN</td>\n",
       "      <td>NaN</td>\n",
       "      <td>NaN</td>\n",
       "    </tr>\n",
       "    <tr>\n",
       "      <th>...</th>\n",
       "      <td>...</td>\n",
       "      <td>...</td>\n",
       "      <td>...</td>\n",
       "      <td>...</td>\n",
       "      <td>...</td>\n",
       "      <td>...</td>\n",
       "      <td>...</td>\n",
       "      <td>...</td>\n",
       "      <td>...</td>\n",
       "      <td>...</td>\n",
       "      <td>...</td>\n",
       "      <td>...</td>\n",
       "      <td>...</td>\n",
       "      <td>...</td>\n",
       "      <td>...</td>\n",
       "      <td>...</td>\n",
       "      <td>...</td>\n",
       "      <td>...</td>\n",
       "      <td>...</td>\n",
       "      <td>...</td>\n",
       "    </tr>\n",
       "    <tr>\n",
       "      <th>31904</th>\n",
       "      <td>zyn.ga</td>\n",
       "      <td>NaN</td>\n",
       "      <td>NaN</td>\n",
       "      <td>NaN</td>\n",
       "      <td>NaN</td>\n",
       "      <td>NaN</td>\n",
       "      <td>NaN</td>\n",
       "      <td>NaN</td>\n",
       "      <td>NaN</td>\n",
       "      <td>0.0883</td>\n",
       "      <td>1000.0</td>\n",
       "      <td>500.0</td>\n",
       "      <td>NaN</td>\n",
       "      <td>NaN</td>\n",
       "      <td>NaN</td>\n",
       "      <td>NaN</td>\n",
       "      <td>NaN</td>\n",
       "      <td>NaN</td>\n",
       "      <td>NaN</td>\n",
       "      <td>NaN</td>\n",
       "    </tr>\n",
       "    <tr>\n",
       "      <th>31905</th>\n",
       "      <td>zynga.tm</td>\n",
       "      <td>NaN</td>\n",
       "      <td>NaN</td>\n",
       "      <td>NaN</td>\n",
       "      <td>NaN</td>\n",
       "      <td>NaN</td>\n",
       "      <td>NaN</td>\n",
       "      <td>NaN</td>\n",
       "      <td>NaN</td>\n",
       "      <td>0.1284</td>\n",
       "      <td>5500.0</td>\n",
       "      <td>1100.0</td>\n",
       "      <td>NaN</td>\n",
       "      <td>NaN</td>\n",
       "      <td>NaN</td>\n",
       "      <td>NaN</td>\n",
       "      <td>NaN</td>\n",
       "      <td>NaN</td>\n",
       "      <td>NaN</td>\n",
       "      <td>NaN</td>\n",
       "    </tr>\n",
       "    <tr>\n",
       "      <th>31906</th>\n",
       "      <td>hillaryspeeches.com</td>\n",
       "      <td>NaN</td>\n",
       "      <td>NaN</td>\n",
       "      <td>NaN</td>\n",
       "      <td>NaN</td>\n",
       "      <td>NaN</td>\n",
       "      <td>NaN</td>\n",
       "      <td>NaN</td>\n",
       "      <td>NaN</td>\n",
       "      <td>NaN</td>\n",
       "      <td>NaN</td>\n",
       "      <td>NaN</td>\n",
       "      <td>NaN</td>\n",
       "      <td>NaN</td>\n",
       "      <td>NaN</td>\n",
       "      <td>NaN</td>\n",
       "      <td>NaN</td>\n",
       "      <td>NaN</td>\n",
       "      <td>NaN</td>\n",
       "      <td>0.0</td>\n",
       "    </tr>\n",
       "    <tr>\n",
       "      <th>31907</th>\n",
       "      <td>sli.mg</td>\n",
       "      <td>NaN</td>\n",
       "      <td>NaN</td>\n",
       "      <td>NaN</td>\n",
       "      <td>NaN</td>\n",
       "      <td>NaN</td>\n",
       "      <td>NaN</td>\n",
       "      <td>NaN</td>\n",
       "      <td>NaN</td>\n",
       "      <td>NaN</td>\n",
       "      <td>NaN</td>\n",
       "      <td>NaN</td>\n",
       "      <td>NaN</td>\n",
       "      <td>NaN</td>\n",
       "      <td>NaN</td>\n",
       "      <td>NaN</td>\n",
       "      <td>NaN</td>\n",
       "      <td>NaN</td>\n",
       "      <td>NaN</td>\n",
       "      <td>0.0</td>\n",
       "    </tr>\n",
       "    <tr>\n",
       "      <th>31908</th>\n",
       "      <td>blakkpepper.com</td>\n",
       "      <td>NaN</td>\n",
       "      <td>NaN</td>\n",
       "      <td>NaN</td>\n",
       "      <td>NaN</td>\n",
       "      <td>NaN</td>\n",
       "      <td>NaN</td>\n",
       "      <td>NaN</td>\n",
       "      <td>NaN</td>\n",
       "      <td>NaN</td>\n",
       "      <td>NaN</td>\n",
       "      <td>NaN</td>\n",
       "      <td>NaN</td>\n",
       "      <td>NaN</td>\n",
       "      <td>NaN</td>\n",
       "      <td>NaN</td>\n",
       "      <td>NaN</td>\n",
       "      <td>NaN</td>\n",
       "      <td>yellow</td>\n",
       "      <td>0.0</td>\n",
       "    </tr>\n",
       "  </tbody>\n",
       "</table>\n",
       "<p>24327 rows × 20 columns</p>\n",
       "</div>"
      ],
      "text/plain": [
       "                    domain  news_fakenews_proj  news_googlenews  news_manual  \\\n",
       "0                  007.com                 NaN              0.0          NaN   \n",
       "2             100isnow.com                 NaN              0.0          NaN   \n",
       "4       100photos.time.com                 NaN              0.0          NaN   \n",
       "5              1011now.com                 NaN              1.0          NaN   \n",
       "6        101greatgoals.com                 NaN              1.0          NaN   \n",
       "...                    ...                 ...              ...          ...   \n",
       "31904               zyn.ga                 NaN              NaN          NaN   \n",
       "31905             zynga.tm                 NaN              NaN          NaN   \n",
       "31906  hillaryspeeches.com                 NaN              NaN          NaN   \n",
       "31907               sli.mg                 NaN              NaN          NaN   \n",
       "31908      blakkpepper.com                 NaN              NaN          NaN   \n",
       "\n",
       "       news_tvnews_data  news_bakshy  news_yin  news_n  news_is_news  \\\n",
       "0                   NaN          NaN       NaN     0.0           0.0   \n",
       "2                   NaN          NaN       NaN     0.0           0.0   \n",
       "4                   NaN          NaN       NaN     0.0           0.0   \n",
       "5                   NaN          NaN       NaN     0.0           0.0   \n",
       "6                   NaN          NaN       NaN     0.0           0.0   \n",
       "...                 ...          ...       ...     ...           ...   \n",
       "31904               NaN          NaN       NaN     NaN           NaN   \n",
       "31905               NaN          NaN       NaN     NaN           NaN   \n",
       "31906               NaN          NaN       NaN     NaN           NaN   \n",
       "31907               NaN          NaN       NaN     NaN           NaN   \n",
       "31908               NaN          NaN       NaN     NaN           NaN   \n",
       "\n",
       "       bias_score  bias_rounded_n_shares  bias_rounded_n_accts  bias_fb_score  \\\n",
       "0          0.0948                  100.0                 100.0            NaN   \n",
       "2         -0.7228                  100.0                 100.0            NaN   \n",
       "4             NaN                    NaN                   NaN            NaN   \n",
       "5          0.5387                 1700.0                 500.0            NaN   \n",
       "6         -0.1426                  300.0                 100.0            NaN   \n",
       "...           ...                    ...                   ...            ...   \n",
       "31904      0.0883                 1000.0                 500.0            NaN   \n",
       "31905      0.1284                 5500.0                1100.0            NaN   \n",
       "31906         NaN                    NaN                   NaN            NaN   \n",
       "31907         NaN                    NaN                   NaN            NaN   \n",
       "31908         NaN                    NaN                   NaN            NaN   \n",
       "\n",
       "       bias_mturk_score  bias_budak_score  bias_allsides_score  \\\n",
       "0                   NaN               NaN                  NaN   \n",
       "2                   NaN               NaN                  NaN   \n",
       "4                   NaN               NaN                  NaN   \n",
       "5                   NaN               NaN                  NaN   \n",
       "6                   NaN               NaN                  NaN   \n",
       "...                 ...               ...                  ...   \n",
       "31904               NaN               NaN                  NaN   \n",
       "31905               NaN               NaN                  NaN   \n",
       "31906               NaN               NaN                  NaN   \n",
       "31907               NaN               NaN                  NaN   \n",
       "31908               NaN               NaN                  NaN   \n",
       "\n",
       "       bias_allsides_score_community  bias_pew_score fn_color  fn_is_fake  \n",
       "0                                NaN             NaN      NaN         NaN  \n",
       "2                                NaN             NaN      NaN         NaN  \n",
       "4                                NaN             NaN      NaN         NaN  \n",
       "5                                NaN             NaN      NaN         NaN  \n",
       "6                                NaN             NaN      NaN         NaN  \n",
       "...                              ...             ...      ...         ...  \n",
       "31904                            NaN             NaN      NaN         NaN  \n",
       "31905                            NaN             NaN      NaN         NaN  \n",
       "31906                            NaN             NaN      NaN         0.0  \n",
       "31907                            NaN             NaN      NaN         0.0  \n",
       "31908                            NaN             NaN   yellow         0.0  \n",
       "\n",
       "[24327 rows x 20 columns]"
      ]
     },
     "execution_count": 52,
     "metadata": {},
     "output_type": "execute_result"
    }
   ],
   "source": [
    "robertson_df[robertson_df.news_is_news != 1.0]"
   ]
  },
  {
   "cell_type": "code",
   "execution_count": 57,
   "id": "829afb81-2cc9-4ac2-b884-e0a7bbab0b58",
   "metadata": {},
   "outputs": [
    {
     "data": {
      "text/html": [
       "<div>\n",
       "<style scoped>\n",
       "    .dataframe tbody tr th:only-of-type {\n",
       "        vertical-align: middle;\n",
       "    }\n",
       "\n",
       "    .dataframe tbody tr th {\n",
       "        vertical-align: top;\n",
       "    }\n",
       "\n",
       "    .dataframe thead th {\n",
       "        text-align: right;\n",
       "    }\n",
       "</style>\n",
       "<table border=\"1\" class=\"dataframe\">\n",
       "  <thead>\n",
       "    <tr style=\"text-align: right;\">\n",
       "      <th></th>\n",
       "      <th>domain</th>\n",
       "      <th>news_fakenews_proj</th>\n",
       "      <th>news_googlenews</th>\n",
       "      <th>news_manual</th>\n",
       "      <th>news_tvnews_data</th>\n",
       "      <th>news_bakshy</th>\n",
       "      <th>news_yin</th>\n",
       "      <th>news_n</th>\n",
       "      <th>news_is_news</th>\n",
       "      <th>bias_score</th>\n",
       "      <th>bias_rounded_n_shares</th>\n",
       "      <th>bias_rounded_n_accts</th>\n",
       "      <th>bias_fb_score</th>\n",
       "      <th>bias_mturk_score</th>\n",
       "      <th>bias_budak_score</th>\n",
       "      <th>bias_allsides_score</th>\n",
       "      <th>bias_allsides_score_community</th>\n",
       "      <th>bias_pew_score</th>\n",
       "      <th>fn_color</th>\n",
       "      <th>fn_is_fake</th>\n",
       "    </tr>\n",
       "  </thead>\n",
       "  <tbody>\n",
       "    <tr>\n",
       "      <th>19839</th>\n",
       "      <td>whitehouse.gov</td>\n",
       "      <td>0.0</td>\n",
       "      <td>NaN</td>\n",
       "      <td>NaN</td>\n",
       "      <td>NaN</td>\n",
       "      <td>1.0</td>\n",
       "      <td>NaN</td>\n",
       "      <td>1.0</td>\n",
       "      <td>1.0</td>\n",
       "      <td>-0.2283</td>\n",
       "      <td>33200.0</td>\n",
       "      <td>21500.0</td>\n",
       "      <td>-0.5325</td>\n",
       "      <td>0.25</td>\n",
       "      <td>NaN</td>\n",
       "      <td>0.5</td>\n",
       "      <td>1.0</td>\n",
       "      <td>NaN</td>\n",
       "      <td>NaN</td>\n",
       "      <td>NaN</td>\n",
       "    </tr>\n",
       "  </tbody>\n",
       "</table>\n",
       "</div>"
      ],
      "text/plain": [
       "               domain  news_fakenews_proj  news_googlenews  news_manual  \\\n",
       "19839  whitehouse.gov                 0.0              NaN          NaN   \n",
       "\n",
       "       news_tvnews_data  news_bakshy  news_yin  news_n  news_is_news  \\\n",
       "19839               NaN          1.0       NaN     1.0           1.0   \n",
       "\n",
       "       bias_score  bias_rounded_n_shares  bias_rounded_n_accts  bias_fb_score  \\\n",
       "19839     -0.2283                33200.0               21500.0        -0.5325   \n",
       "\n",
       "       bias_mturk_score  bias_budak_score  bias_allsides_score  \\\n",
       "19839              0.25               NaN                  0.5   \n",
       "\n",
       "       bias_allsides_score_community  bias_pew_score fn_color  fn_is_fake  \n",
       "19839                            1.0             NaN      NaN         NaN  "
      ]
     },
     "execution_count": 57,
     "metadata": {},
     "output_type": "execute_result"
    }
   ],
   "source": [
    "robertson_df.query(\"domain == 'whitehouse.gov'\")"
   ]
  },
  {
   "cell_type": "code",
   "execution_count": null,
   "id": "6f1562c1-ebd0-4d92-9193-60b12a04b7ec",
   "metadata": {},
   "outputs": [],
   "source": [
    "rokkk"
   ]
  },
  {
   "cell_type": "markdown",
   "id": "2c511b42-74b7-40cb-a0a8-7e1ae3cb4d8e",
   "metadata": {},
   "source": [
    "# Hohenberg"
   ]
  },
  {
   "cell_type": "code",
   "execution_count": 21,
   "id": "79223431-df3e-4b7e-989b-240ca178944b",
   "metadata": {},
   "outputs": [],
   "source": [
    "hohenberg_df = pd.read_csv(\"../data/raw_data/hohenberg.csv\")"
   ]
  },
  {
   "cell_type": "code",
   "execution_count": 22,
   "id": "bed63088-abac-4897-b687-9249103e382a",
   "metadata": {},
   "outputs": [
    {
     "data": {
      "text/html": [
       "<div>\n",
       "<style scoped>\n",
       "    .dataframe tbody tr th:only-of-type {\n",
       "        vertical-align: middle;\n",
       "    }\n",
       "\n",
       "    .dataframe tbody tr th {\n",
       "        vertical-align: top;\n",
       "    }\n",
       "\n",
       "    .dataframe thead th {\n",
       "        text-align: right;\n",
       "    }\n",
       "</style>\n",
       "<table border=\"1\" class=\"dataframe\">\n",
       "  <thead>\n",
       "    <tr style=\"text-align: right;\">\n",
       "      <th></th>\n",
       "      <th>domain</th>\n",
       "      <th>ideology</th>\n",
       "      <th>type</th>\n",
       "    </tr>\n",
       "  </thead>\n",
       "  <tbody>\n",
       "  </tbody>\n",
       "</table>\n",
       "</div>"
      ],
      "text/plain": [
       "Empty DataFrame\n",
       "Columns: [domain, ideology, type]\n",
       "Index: []"
      ]
     },
     "execution_count": 22,
     "metadata": {},
     "output_type": "execute_result"
    }
   ],
   "source": [
    "hohenberg_df[hohenberg_df.domain.isna()]"
   ]
  },
  {
   "cell_type": "code",
   "execution_count": 23,
   "id": "3193a2e4-86f7-442e-80fd-f429a2696d0b",
   "metadata": {},
   "outputs": [
    {
     "data": {
      "text/html": [
       "<div>\n",
       "<style scoped>\n",
       "    .dataframe tbody tr th:only-of-type {\n",
       "        vertical-align: middle;\n",
       "    }\n",
       "\n",
       "    .dataframe tbody tr th {\n",
       "        vertical-align: top;\n",
       "    }\n",
       "\n",
       "    .dataframe thead th {\n",
       "        text-align: right;\n",
       "    }\n",
       "</style>\n",
       "<table border=\"1\" class=\"dataframe\">\n",
       "  <thead>\n",
       "    <tr style=\"text-align: right;\">\n",
       "      <th></th>\n",
       "      <th>domain</th>\n",
       "      <th>ideology</th>\n",
       "      <th>type</th>\n",
       "    </tr>\n",
       "  </thead>\n",
       "  <tbody>\n",
       "    <tr>\n",
       "      <th>159</th>\n",
       "      <td>aol.com/news</td>\n",
       "      <td>NaN</td>\n",
       "      <td>NaN</td>\n",
       "    </tr>\n",
       "    <tr>\n",
       "      <th>357</th>\n",
       "      <td>bing.com/news</td>\n",
       "      <td>NaN</td>\n",
       "      <td>NaN</td>\n",
       "    </tr>\n",
       "    <tr>\n",
       "      <th>2810</th>\n",
       "      <td>msn.com/en-us/news</td>\n",
       "      <td>0.1119</td>\n",
       "      <td>NaN</td>\n",
       "    </tr>\n",
       "    <tr>\n",
       "      <th>5362</th>\n",
       "      <td>yahoo.com/news</td>\n",
       "      <td>0.0848</td>\n",
       "      <td>national</td>\n",
       "    </tr>\n",
       "  </tbody>\n",
       "</table>\n",
       "</div>"
      ],
      "text/plain": [
       "                  domain  ideology      type\n",
       "159         aol.com/news       NaN       NaN\n",
       "357        bing.com/news       NaN       NaN\n",
       "2810  msn.com/en-us/news    0.1119       NaN\n",
       "5362      yahoo.com/news    0.0848  national"
      ]
     },
     "execution_count": 23,
     "metadata": {},
     "output_type": "execute_result"
    }
   ],
   "source": [
    "hohenberg_df[hohenberg_df.domain.str.contains(\"/\")]"
   ]
  },
  {
   "cell_type": "code",
   "execution_count": 24,
   "id": "3d800932-f4a9-435d-b436-0366a4de3c8a",
   "metadata": {},
   "outputs": [
    {
     "data": {
      "text/html": [
       "<div>\n",
       "<style scoped>\n",
       "    .dataframe tbody tr th:only-of-type {\n",
       "        vertical-align: middle;\n",
       "    }\n",
       "\n",
       "    .dataframe tbody tr th {\n",
       "        vertical-align: top;\n",
       "    }\n",
       "\n",
       "    .dataframe thead th {\n",
       "        text-align: right;\n",
       "    }\n",
       "</style>\n",
       "<table border=\"1\" class=\"dataframe\">\n",
       "  <thead>\n",
       "    <tr style=\"text-align: right;\">\n",
       "      <th></th>\n",
       "      <th>domain</th>\n",
       "      <th>ideology</th>\n",
       "      <th>type</th>\n",
       "    </tr>\n",
       "  </thead>\n",
       "  <tbody>\n",
       "  </tbody>\n",
       "</table>\n",
       "</div>"
      ],
      "text/plain": [
       "Empty DataFrame\n",
       "Columns: [domain, ideology, type]\n",
       "Index: []"
      ]
     },
     "execution_count": 24,
     "metadata": {},
     "output_type": "execute_result"
    }
   ],
   "source": [
    "hohenberg_df.query(\"domain == 'valleytimes'\")"
   ]
  },
  {
   "cell_type": "code",
   "execution_count": 89,
   "id": "db0525e8-0e8a-47ed-9911-f364b0eb054b",
   "metadata": {},
   "outputs": [],
   "source": [
    "def has_path(url):\n",
    "    \"\"\"\n",
    "    Check if the URL has a path component.\n",
    "\n",
    "    Returns:\n",
    "        bool: True if URL has a non-empty path, False otherwise\n",
    "    \"\"\"\n",
    "    parsed_url = urlparse(url)\n",
    "    path = parsed_url.path.replace(\"/\", \"\")\n",
    "    print(path)\n",
    "    return path != \"\""
   ]
  },
  {
   "cell_type": "code",
   "execution_count": 90,
   "id": "1525bfc5-a4ba-4e7a-bba7-55c33522fa2f",
   "metadata": {},
   "outputs": [
    {
     "name": "stdout",
     "output_type": "stream",
     "text": [
      "aol.comnews\n"
     ]
    },
    {
     "data": {
      "text/plain": [
       "True"
      ]
     },
     "execution_count": 90,
     "metadata": {},
     "output_type": "execute_result"
    }
   ],
   "source": [
    "has_path(\"aol.com/news\")"
   ]
  },
  {
   "cell_type": "code",
   "execution_count": 91,
   "id": "59719824-ceff-407f-baaa-c476af84ed90",
   "metadata": {},
   "outputs": [
    {
     "name": "stdout",
     "output_type": "stream",
     "text": [
      "aol.com\n"
     ]
    },
    {
     "data": {
      "text/plain": [
       "True"
      ]
     },
     "execution_count": 91,
     "metadata": {},
     "output_type": "execute_result"
    }
   ],
   "source": [
    "has_path(\"aol.com\")"
   ]
  },
  {
   "cell_type": "code",
   "execution_count": 93,
   "id": "60d69494-693f-4942-ae32-b4881667f46a",
   "metadata": {},
   "outputs": [],
   "source": [
    "parsed_url = urlparse(\"aol.com\")"
   ]
  },
  {
   "cell_type": "code",
   "execution_count": 94,
   "id": "f8f31190-7951-46af-9798-930248ccb5ab",
   "metadata": {},
   "outputs": [
    {
     "data": {
      "text/plain": [
       "ParseResult(scheme='', netloc='', path='aol.com', params='', query='', fragment='')"
      ]
     },
     "execution_count": 94,
     "metadata": {},
     "output_type": "execute_result"
    }
   ],
   "source": [
    "parsed_url"
   ]
  },
  {
   "cell_type": "markdown",
   "id": "876ae778-bb08-4f12-b285-4b2d8a3fa8ad",
   "metadata": {},
   "source": [
    "# Le Quere"
   ]
  },
  {
   "cell_type": "code",
   "execution_count": 25,
   "id": "aa79cf95-a54e-4063-a124-606c20de3e31",
   "metadata": {},
   "outputs": [],
   "source": [
    "le_quere_df = pd.read_csv(\"../data/raw_data/le_quere.csv\", usecols=['WebsiteUrl'])"
   ]
  },
  {
   "cell_type": "code",
   "execution_count": 26,
   "id": "9ea61510-9763-4d90-9210-e8d7774d4145",
   "metadata": {},
   "outputs": [],
   "source": [
    "le_quere_df.rename(columns={\"WebsiteUrl\": \"domain\"}, inplace=True)"
   ]
  },
  {
   "cell_type": "code",
   "execution_count": 27,
   "id": "ea22a783-42e3-4d47-9022-8732b45d7ca4",
   "metadata": {},
   "outputs": [],
   "source": [
    "le_quere_df = le_quere_df[le_quere_df.domain.notna()].copy()"
   ]
  },
  {
   "cell_type": "code",
   "execution_count": 28,
   "id": "6006be03-4928-4ada-b44a-cbf9a6475c7a",
   "metadata": {},
   "outputs": [
    {
     "data": {
      "text/html": [
       "<div>\n",
       "<style scoped>\n",
       "    .dataframe tbody tr th:only-of-type {\n",
       "        vertical-align: middle;\n",
       "    }\n",
       "\n",
       "    .dataframe tbody tr th {\n",
       "        vertical-align: top;\n",
       "    }\n",
       "\n",
       "    .dataframe thead th {\n",
       "        text-align: right;\n",
       "    }\n",
       "</style>\n",
       "<table border=\"1\" class=\"dataframe\">\n",
       "  <thead>\n",
       "    <tr style=\"text-align: right;\">\n",
       "      <th></th>\n",
       "      <th>domain</th>\n",
       "    </tr>\n",
       "  </thead>\n",
       "  <tbody>\n",
       "    <tr>\n",
       "      <th>23</th>\n",
       "      <td>peninsulaclarion.com/dispatch</td>\n",
       "    </tr>\n",
       "    <tr>\n",
       "      <th>35</th>\n",
       "      <td>seldovia.com/seldovia-gazette</td>\n",
       "    </tr>\n",
       "    <tr>\n",
       "      <th>63</th>\n",
       "      <td>gulfcoastnewstoday.com/the_baldwin_times</td>\n",
       "    </tr>\n",
       "    <tr>\n",
       "      <th>64</th>\n",
       "      <td>linktr.ee/abouttownmag</td>\n",
       "    </tr>\n",
       "    <tr>\n",
       "      <th>68</th>\n",
       "      <td>al.com/birmingham</td>\n",
       "    </tr>\n",
       "    <tr>\n",
       "      <th>...</th>\n",
       "      <td>...</td>\n",
       "    </tr>\n",
       "    <tr>\n",
       "      <th>10230</th>\n",
       "      <td>patch.com/pennsylvania/yardley</td>\n",
       "    </tr>\n",
       "    <tr>\n",
       "      <th>10232</th>\n",
       "      <td>newsbreak.com/pennsylvania/york</td>\n",
       "    </tr>\n",
       "    <tr>\n",
       "      <th>10236</th>\n",
       "      <td>newsbreak.com/california/yucaipa</td>\n",
       "    </tr>\n",
       "    <tr>\n",
       "      <th>10237</th>\n",
       "      <td>newsbreak.com/arizona/yuma</td>\n",
       "    </tr>\n",
       "    <tr>\n",
       "      <th>10248</th>\n",
       "      <td>myelmwoodpark.com/about</td>\n",
       "    </tr>\n",
       "  </tbody>\n",
       "</table>\n",
       "<p>1674 rows × 1 columns</p>\n",
       "</div>"
      ],
      "text/plain": [
       "                                         domain\n",
       "23                peninsulaclarion.com/dispatch\n",
       "35                seldovia.com/seldovia-gazette\n",
       "63     gulfcoastnewstoday.com/the_baldwin_times\n",
       "64                       linktr.ee/abouttownmag\n",
       "68                            al.com/birmingham\n",
       "...                                         ...\n",
       "10230            patch.com/pennsylvania/yardley\n",
       "10232           newsbreak.com/pennsylvania/york\n",
       "10236          newsbreak.com/california/yucaipa\n",
       "10237                newsbreak.com/arizona/yuma\n",
       "10248                   myelmwoodpark.com/about\n",
       "\n",
       "[1674 rows x 1 columns]"
      ]
     },
     "execution_count": 28,
     "metadata": {},
     "output_type": "execute_result"
    }
   ],
   "source": [
    "le_quere_df[le_quere_df.domain.str.contains(\"/\")]"
   ]
  },
  {
   "cell_type": "code",
   "execution_count": 110,
   "id": "cf5c4170-6fee-448c-81d3-71ddafafba37",
   "metadata": {},
   "outputs": [],
   "source": [
    "le_quere_df = le_quere_df[~le_quere_df.domain.str.contains(\"/\")].copy()"
   ]
  },
  {
   "cell_type": "code",
   "execution_count": 112,
   "id": "3398ec70-9978-4fbb-bff7-9fa1342a7699",
   "metadata": {},
   "outputs": [],
   "source": [
    "le_quere_df['domain'] = le_quere_df.domain.str.lower()"
   ]
  },
  {
   "cell_type": "code",
   "execution_count": 116,
   "id": "4d82da5d-bc20-48e8-bf5c-4fc937b36fdc",
   "metadata": {},
   "outputs": [],
   "source": [
    "le_quere_df['suffix'] = le_quere_df.domain.apply(extract_suffix)"
   ]
  },
  {
   "cell_type": "code",
   "execution_count": 118,
   "id": "4b209844-8d4b-4b39-b7c6-6769a8818b34",
   "metadata": {},
   "outputs": [
    {
     "data": {
      "text/plain": [
       "suffix\n",
       "com              7619\n",
       "net               364\n",
       "org               117\n",
       "news               22\n",
       "us                 21\n",
       "info               16\n",
       "ca                 10\n",
       "co.uk               8\n",
       "cz                  8\n",
       "biz                 6\n",
       "me                  5\n",
       "tv                  5\n",
       "co                  4\n",
       "se                  4\n",
       "ms                  4\n",
       "in                  3\n",
       "fi                  3\n",
       "nl                  2\n",
       "ie                  2\n",
       "com.au              2\n",
       "gov                 2\n",
       "com.do              2\n",
       "online              2\n",
       "cv                  2\n",
       "edu                 2\n",
       "eu                  2\n",
       "plus                1\n",
       "com.tr              1\n",
       "no                  1\n",
       "buzz                1\n",
       "co.zw               1\n",
       "fr                  1\n",
       "coop                1\n",
       "pl                  1\n",
       "fm                  1\n",
       "cc                  1\n",
       "today               1\n",
       "la                  1\n",
       "org.tw              1\n",
       "ad                  1\n",
       "life                1\n",
       "ma                  1\n",
       "it                  1\n",
       "mn                  1\n",
       "                    1\n",
       "co.kr               1\n",
       "pet                 1\n",
       "co.ug               1\n",
       "sandefjord.no       1\n",
       "am                  1\n",
       "Name: count, dtype: int64"
      ]
     },
     "execution_count": 118,
     "metadata": {},
     "output_type": "execute_result"
    }
   ],
   "source": [
    "le_quere_df.suffix.value_counts()"
   ]
  },
  {
   "cell_type": "code",
   "execution_count": 121,
   "id": "666c02f9-8b02-42ff-9f2f-25ccbc55df6f",
   "metadata": {},
   "outputs": [
    {
     "data": {
      "text/html": [
       "<div>\n",
       "<style scoped>\n",
       "    .dataframe tbody tr th:only-of-type {\n",
       "        vertical-align: middle;\n",
       "    }\n",
       "\n",
       "    .dataframe tbody tr th {\n",
       "        vertical-align: top;\n",
       "    }\n",
       "\n",
       "    .dataframe thead th {\n",
       "        text-align: right;\n",
       "    }\n",
       "</style>\n",
       "<table border=\"1\" class=\"dataframe\">\n",
       "  <thead>\n",
       "    <tr style=\"text-align: right;\">\n",
       "      <th></th>\n",
       "      <th>domain</th>\n",
       "      <th>suffix</th>\n",
       "    </tr>\n",
       "  </thead>\n",
       "  <tbody>\n",
       "    <tr>\n",
       "      <th>4248</th>\n",
       "      <td>thesouthend.wayne.edu</td>\n",
       "      <td>edu</td>\n",
       "    </tr>\n",
       "    <tr>\n",
       "      <th>5846</th>\n",
       "      <td>paw.princeton.edu</td>\n",
       "      <td>edu</td>\n",
       "    </tr>\n",
       "  </tbody>\n",
       "</table>\n",
       "</div>"
      ],
      "text/plain": [
       "                     domain suffix\n",
       "4248  thesouthend.wayne.edu    edu\n",
       "5846      paw.princeton.edu    edu"
      ]
     },
     "execution_count": 121,
     "metadata": {},
     "output_type": "execute_result"
    }
   ],
   "source": [
    "le_quere_df.query(\"suffix == 'edu'\")"
   ]
  },
  {
   "cell_type": "code",
   "execution_count": 29,
   "id": "0ed490a9-6a87-48e5-acdd-aab76fbae949",
   "metadata": {},
   "outputs": [
    {
     "data": {
      "text/html": [
       "<div>\n",
       "<style scoped>\n",
       "    .dataframe tbody tr th:only-of-type {\n",
       "        vertical-align: middle;\n",
       "    }\n",
       "\n",
       "    .dataframe tbody tr th {\n",
       "        vertical-align: top;\n",
       "    }\n",
       "\n",
       "    .dataframe thead th {\n",
       "        text-align: right;\n",
       "    }\n",
       "</style>\n",
       "<table border=\"1\" class=\"dataframe\">\n",
       "  <thead>\n",
       "    <tr style=\"text-align: right;\">\n",
       "      <th></th>\n",
       "      <th>domain</th>\n",
       "    </tr>\n",
       "  </thead>\n",
       "  <tbody>\n",
       "  </tbody>\n",
       "</table>\n",
       "</div>"
      ],
      "text/plain": [
       "Empty DataFrame\n",
       "Columns: [domain]\n",
       "Index: []"
      ]
     },
     "execution_count": 29,
     "metadata": {},
     "output_type": "execute_result"
    }
   ],
   "source": [
    "le_quere_df.query(\"domain == 'valleytimes'\")"
   ]
  },
  {
   "cell_type": "markdown",
   "id": "6a453de5-d5fb-421b-a61a-b28c2f87a94e",
   "metadata": {},
   "source": [
    "# Fisher"
   ]
  },
  {
   "cell_type": "code",
   "execution_count": 30,
   "id": "fc17b25a-9030-470d-aa80-67f0b25decc1",
   "metadata": {},
   "outputs": [],
   "source": [
    "fisher_df = pd.read_csv(\"../data/raw_data/fisher.csv\", usecols=['domain'])"
   ]
  },
  {
   "cell_type": "code",
   "execution_count": 31,
   "id": "d6231f40-7e64-4cd1-90e3-faf27d4a9809",
   "metadata": {},
   "outputs": [
    {
     "data": {
      "text/html": [
       "<div>\n",
       "<style scoped>\n",
       "    .dataframe tbody tr th:only-of-type {\n",
       "        vertical-align: middle;\n",
       "    }\n",
       "\n",
       "    .dataframe tbody tr th {\n",
       "        vertical-align: top;\n",
       "    }\n",
       "\n",
       "    .dataframe thead th {\n",
       "        text-align: right;\n",
       "    }\n",
       "</style>\n",
       "<table border=\"1\" class=\"dataframe\">\n",
       "  <thead>\n",
       "    <tr style=\"text-align: right;\">\n",
       "      <th></th>\n",
       "      <th>domain</th>\n",
       "    </tr>\n",
       "  </thead>\n",
       "  <tbody>\n",
       "  </tbody>\n",
       "</table>\n",
       "</div>"
      ],
      "text/plain": [
       "Empty DataFrame\n",
       "Columns: [domain]\n",
       "Index: []"
      ]
     },
     "execution_count": 31,
     "metadata": {},
     "output_type": "execute_result"
    }
   ],
   "source": [
    "fisher_df[fisher_df.domain.isna()]"
   ]
  },
  {
   "cell_type": "code",
   "execution_count": 32,
   "id": "0555241c-ae94-4b2b-ad15-56d05404159a",
   "metadata": {},
   "outputs": [
    {
     "data": {
      "text/html": [
       "<div>\n",
       "<style scoped>\n",
       "    .dataframe tbody tr th:only-of-type {\n",
       "        vertical-align: middle;\n",
       "    }\n",
       "\n",
       "    .dataframe tbody tr th {\n",
       "        vertical-align: top;\n",
       "    }\n",
       "\n",
       "    .dataframe thead th {\n",
       "        text-align: right;\n",
       "    }\n",
       "</style>\n",
       "<table border=\"1\" class=\"dataframe\">\n",
       "  <thead>\n",
       "    <tr style=\"text-align: right;\">\n",
       "      <th></th>\n",
       "      <th>domain</th>\n",
       "    </tr>\n",
       "  </thead>\n",
       "  <tbody>\n",
       "    <tr>\n",
       "      <th>1164</th>\n",
       "      <td>cleveland.cbslocal.com/</td>\n",
       "    </tr>\n",
       "  </tbody>\n",
       "</table>\n",
       "</div>"
      ],
      "text/plain": [
       "                       domain\n",
       "1164  cleveland.cbslocal.com/"
      ]
     },
     "execution_count": 32,
     "metadata": {},
     "output_type": "execute_result"
    }
   ],
   "source": [
    "fisher_df[fisher_df.domain.str.contains(\"/\")]"
   ]
  },
  {
   "cell_type": "code",
   "execution_count": null,
   "id": "5c8f21c0-7319-4fbe-bd26-7ab6417f0ba0",
   "metadata": {},
   "outputs": [],
   "source": [
    "fisher_df[fisher_df.domain.str.contains(\"/\")]"
   ]
  },
  {
   "cell_type": "code",
   "execution_count": 33,
   "id": "6bd9d676-60ae-450e-b478-76e5ea74a4fc",
   "metadata": {},
   "outputs": [
    {
     "data": {
      "text/html": [
       "<div>\n",
       "<style scoped>\n",
       "    .dataframe tbody tr th:only-of-type {\n",
       "        vertical-align: middle;\n",
       "    }\n",
       "\n",
       "    .dataframe tbody tr th {\n",
       "        vertical-align: top;\n",
       "    }\n",
       "\n",
       "    .dataframe thead th {\n",
       "        text-align: right;\n",
       "    }\n",
       "</style>\n",
       "<table border=\"1\" class=\"dataframe\">\n",
       "  <thead>\n",
       "    <tr style=\"text-align: right;\">\n",
       "      <th></th>\n",
       "      <th>domain</th>\n",
       "    </tr>\n",
       "  </thead>\n",
       "  <tbody>\n",
       "  </tbody>\n",
       "</table>\n",
       "</div>"
      ],
      "text/plain": [
       "Empty DataFrame\n",
       "Columns: [domain]\n",
       "Index: []"
      ]
     },
     "execution_count": 33,
     "metadata": {},
     "output_type": "execute_result"
    }
   ],
   "source": [
    "fisher_df.query(\"domain == 'valleytimes'\")"
   ]
  },
  {
   "cell_type": "markdown",
   "id": "51194795-cff7-47b5-a730-2d36b76bdab3",
   "metadata": {},
   "source": [
    "# Horne"
   ]
  },
  {
   "cell_type": "code",
   "execution_count": 34,
   "id": "e3f034f9-536a-408d-a598-77d5c7bba57f",
   "metadata": {},
   "outputs": [],
   "source": [
    "horne_raw_df = pd.read_csv(\"../data/raw_data/horne.csv\", usecols=['sourcedomain_id'])"
   ]
  },
  {
   "cell_type": "code",
   "execution_count": 35,
   "id": "b99b9859-f7b3-4eb9-86b4-d8035d61ff6a",
   "metadata": {},
   "outputs": [],
   "source": [
    "horne_domains = []\n",
    "for index, row in horne_raw_df.iterrows():\n",
    "    horne_domains.append(row[\"sourcedomain_id\"].split(\"-\")[1])"
   ]
  },
  {
   "cell_type": "code",
   "execution_count": 36,
   "id": "b9850c28-53bb-4a04-8b27-c3aeb2a9176d",
   "metadata": {},
   "outputs": [],
   "source": [
    "horne_df = pd.DataFrame(horne_domains, columns=[\"domain\"])\n",
    "horne_df.drop_duplicates(inplace=True)"
   ]
  },
  {
   "cell_type": "code",
   "execution_count": 37,
   "id": "10b7be92-c7e0-4a13-a5ea-62b125a437d1",
   "metadata": {},
   "outputs": [
    {
     "data": {
      "text/html": [
       "<div>\n",
       "<style scoped>\n",
       "    .dataframe tbody tr th:only-of-type {\n",
       "        vertical-align: middle;\n",
       "    }\n",
       "\n",
       "    .dataframe tbody tr th {\n",
       "        vertical-align: top;\n",
       "    }\n",
       "\n",
       "    .dataframe thead th {\n",
       "        text-align: right;\n",
       "    }\n",
       "</style>\n",
       "<table border=\"1\" class=\"dataframe\">\n",
       "  <thead>\n",
       "    <tr style=\"text-align: right;\">\n",
       "      <th></th>\n",
       "      <th>domain</th>\n",
       "    </tr>\n",
       "  </thead>\n",
       "  <tbody>\n",
       "  </tbody>\n",
       "</table>\n",
       "</div>"
      ],
      "text/plain": [
       "Empty DataFrame\n",
       "Columns: [domain]\n",
       "Index: []"
      ]
     },
     "execution_count": 37,
     "metadata": {},
     "output_type": "execute_result"
    }
   ],
   "source": [
    "horne_df[horne_df.domain.isna()]"
   ]
  },
  {
   "cell_type": "code",
   "execution_count": 38,
   "id": "3055eb08-09c6-4a6f-a695-7fce5f310353",
   "metadata": {},
   "outputs": [
    {
     "data": {
      "text/html": [
       "<div>\n",
       "<style scoped>\n",
       "    .dataframe tbody tr th:only-of-type {\n",
       "        vertical-align: middle;\n",
       "    }\n",
       "\n",
       "    .dataframe tbody tr th {\n",
       "        vertical-align: top;\n",
       "    }\n",
       "\n",
       "    .dataframe thead th {\n",
       "        text-align: right;\n",
       "    }\n",
       "</style>\n",
       "<table border=\"1\" class=\"dataframe\">\n",
       "  <thead>\n",
       "    <tr style=\"text-align: right;\">\n",
       "      <th></th>\n",
       "      <th>domain</th>\n",
       "    </tr>\n",
       "  </thead>\n",
       "  <tbody>\n",
       "  </tbody>\n",
       "</table>\n",
       "</div>"
      ],
      "text/plain": [
       "Empty DataFrame\n",
       "Columns: [domain]\n",
       "Index: []"
      ]
     },
     "execution_count": 38,
     "metadata": {},
     "output_type": "execute_result"
    }
   ],
   "source": [
    "horne_df[horne_df.domain.str.contains(\"/\")]"
   ]
  },
  {
   "cell_type": "code",
   "execution_count": 40,
   "id": "02d1d2bb-1695-452a-95aa-da4e56cfa3fb",
   "metadata": {},
   "outputs": [
    {
     "data": {
      "text/html": [
       "<div>\n",
       "<style scoped>\n",
       "    .dataframe tbody tr th:only-of-type {\n",
       "        vertical-align: middle;\n",
       "    }\n",
       "\n",
       "    .dataframe tbody tr th {\n",
       "        vertical-align: top;\n",
       "    }\n",
       "\n",
       "    .dataframe thead th {\n",
       "        text-align: right;\n",
       "    }\n",
       "</style>\n",
       "<table border=\"1\" class=\"dataframe\">\n",
       "  <thead>\n",
       "    <tr style=\"text-align: right;\">\n",
       "      <th></th>\n",
       "      <th>domain</th>\n",
       "    </tr>\n",
       "  </thead>\n",
       "  <tbody>\n",
       "    <tr>\n",
       "      <th>27</th>\n",
       "      <td>advocate</td>\n",
       "    </tr>\n",
       "  </tbody>\n",
       "</table>\n",
       "</div>"
      ],
      "text/plain": [
       "      domain\n",
       "27  advocate"
      ]
     },
     "execution_count": 40,
     "metadata": {},
     "output_type": "execute_result"
    }
   ],
   "source": [
    "horne_df.query(\"domain == 'advocate'\")"
   ]
  },
  {
   "cell_type": "markdown",
   "id": "712daf76-4e27-4368-bd74-da54254f212b",
   "metadata": {},
   "source": [
    "# ABYZ"
   ]
  },
  {
   "cell_type": "code",
   "execution_count": 193,
   "id": "6f3c95df-6386-4cb6-bedf-83a81d946dc6",
   "metadata": {},
   "outputs": [],
   "source": [
    "def extract_domain(url):\n",
    "    \"\"\"\n",
    "    Extract the domain from the URL.\n",
    "\n",
    "    Returns:\n",
    "        str: The domain (e.g. 'example.com')\n",
    "    \"\"\"\n",
    "    extracted = tldextract.extract(url)\n",
    "    domain = f\"{extracted.subdomain}.{extracted.domain}.{extracted.suffix}\"\n",
    "    return domain"
   ]
  },
  {
   "cell_type": "code",
   "execution_count": 153,
   "id": "7bb6d0e1-8185-4674-a253-53f3517336d2",
   "metadata": {},
   "outputs": [],
   "source": [
    "abyz_df = pd.read_csv(\"../data/raw_data/abyz.csv\")#, usecols=['domain'])"
   ]
  },
  {
   "cell_type": "code",
   "execution_count": null,
   "id": "874eac06-299c-4387-8e03-d66d75846852",
   "metadata": {},
   "outputs": [],
   "source": [
    "abyz_df"
   ]
  },
  {
   "cell_type": "code",
   "execution_count": 187,
   "id": "a75edc3e-e0b6-42bc-be5c-b76180aa2c97",
   "metadata": {},
   "outputs": [],
   "source": [
    "temp_abyz_df = abyz_df[abyz_df.domain.str.contains(\"www\")].copy()"
   ]
  },
  {
   "cell_type": "code",
   "execution_count": 194,
   "id": "10cb2784-df4f-4396-9a7a-9e4fcbff6002",
   "metadata": {},
   "outputs": [],
   "source": [
    "temp_abyz_df['clean_domain'] = temp_abyz_df.domain.apply(extract_domain)"
   ]
  },
  {
   "cell_type": "code",
   "execution_count": 196,
   "id": "231e4715-22bc-4c70-9518-ef65cc30faa5",
   "metadata": {},
   "outputs": [
    {
     "data": {
      "text/html": [
       "<div>\n",
       "<style scoped>\n",
       "    .dataframe tbody tr th:only-of-type {\n",
       "        vertical-align: middle;\n",
       "    }\n",
       "\n",
       "    .dataframe tbody tr th {\n",
       "        vertical-align: top;\n",
       "    }\n",
       "\n",
       "    .dataframe thead th {\n",
       "        text-align: right;\n",
       "    }\n",
       "</style>\n",
       "<table border=\"1\" class=\"dataframe\">\n",
       "  <thead>\n",
       "    <tr style=\"text-align: right;\">\n",
       "      <th></th>\n",
       "      <th>scope</th>\n",
       "      <th>url</th>\n",
       "      <th>media_name</th>\n",
       "      <th>media_type</th>\n",
       "      <th>media_focus</th>\n",
       "      <th>language</th>\n",
       "      <th>domain</th>\n",
       "      <th>state_abbr</th>\n",
       "      <th>clean_domain</th>\n",
       "    </tr>\n",
       "  </thead>\n",
       "  <tbody>\n",
       "  </tbody>\n",
       "</table>\n",
       "</div>"
      ],
      "text/plain": [
       "Empty DataFrame\n",
       "Columns: [scope, url, media_name, media_type, media_focus, language, domain, state_abbr, clean_domain]\n",
       "Index: []"
      ]
     },
     "execution_count": 196,
     "metadata": {},
     "output_type": "execute_result"
    }
   ],
   "source": [
    "temp_abyz_df[temp_abyz_df.clean_domain.str.endswith(\"gov\")]"
   ]
  },
  {
   "cell_type": "code",
   "execution_count": 149,
   "id": "20235a55-eb9c-40f6-996d-1872b1a2e9e9",
   "metadata": {},
   "outputs": [
    {
     "data": {
      "text/html": [
       "<div>\n",
       "<style scoped>\n",
       "    .dataframe tbody tr th:only-of-type {\n",
       "        vertical-align: middle;\n",
       "    }\n",
       "\n",
       "    .dataframe tbody tr th {\n",
       "        vertical-align: top;\n",
       "    }\n",
       "\n",
       "    .dataframe thead th {\n",
       "        text-align: right;\n",
       "    }\n",
       "</style>\n",
       "<table border=\"1\" class=\"dataframe\">\n",
       "  <thead>\n",
       "    <tr style=\"text-align: right;\">\n",
       "      <th></th>\n",
       "      <th>domain</th>\n",
       "    </tr>\n",
       "  </thead>\n",
       "  <tbody>\n",
       "  </tbody>\n",
       "</table>\n",
       "</div>"
      ],
      "text/plain": [
       "Empty DataFrame\n",
       "Columns: [domain]\n",
       "Index: []"
      ]
     },
     "execution_count": 149,
     "metadata": {},
     "output_type": "execute_result"
    }
   ],
   "source": [
    "abyz_df[abyz_df.domain.isna()]"
   ]
  },
  {
   "cell_type": "code",
   "execution_count": 150,
   "id": "d98760ef-302d-468e-9d58-b57d27edd4eb",
   "metadata": {},
   "outputs": [
    {
     "data": {
      "text/html": [
       "<div>\n",
       "<style scoped>\n",
       "    .dataframe tbody tr th:only-of-type {\n",
       "        vertical-align: middle;\n",
       "    }\n",
       "\n",
       "    .dataframe tbody tr th {\n",
       "        vertical-align: top;\n",
       "    }\n",
       "\n",
       "    .dataframe thead th {\n",
       "        text-align: right;\n",
       "    }\n",
       "</style>\n",
       "<table border=\"1\" class=\"dataframe\">\n",
       "  <thead>\n",
       "    <tr style=\"text-align: right;\">\n",
       "      <th></th>\n",
       "      <th>domain</th>\n",
       "    </tr>\n",
       "  </thead>\n",
       "  <tbody>\n",
       "  </tbody>\n",
       "</table>\n",
       "</div>"
      ],
      "text/plain": [
       "Empty DataFrame\n",
       "Columns: [domain]\n",
       "Index: []"
      ]
     },
     "execution_count": 150,
     "metadata": {},
     "output_type": "execute_result"
    }
   ],
   "source": [
    "abyz_df[abyz_df.domain.str.contains(\"/\")]"
   ]
  },
  {
   "cell_type": "code",
   "execution_count": 151,
   "id": "b399093b-992d-42da-93f3-09c8386c7487",
   "metadata": {},
   "outputs": [
    {
     "data": {
      "text/plain": [
       "domain\n",
       "smalltownpapers.com    176\n",
       "wickedlocal.com        112\n",
       "mysuburbanlife.com      60\n",
       "bizjournals.com         42\n",
       "northjersey.com         42\n",
       "                      ... \n",
       "the-papers.com           1\n",
       "mvdemocrat.com           1\n",
       "bsudailynews.com         1\n",
       "munciefreepress.com      1\n",
       "wyodaily.com             1\n",
       "Name: count, Length: 10414, dtype: int64"
      ]
     },
     "execution_count": 151,
     "metadata": {},
     "output_type": "execute_result"
    }
   ],
   "source": [
    "abyz_df.domain.value_counts()"
   ]
  },
  {
   "cell_type": "code",
   "execution_count": 154,
   "id": "76aeefde-05ad-4f83-a010-d63091a93e0b",
   "metadata": {},
   "outputs": [
    {
     "data": {
      "text/html": [
       "<div>\n",
       "<style scoped>\n",
       "    .dataframe tbody tr th:only-of-type {\n",
       "        vertical-align: middle;\n",
       "    }\n",
       "\n",
       "    .dataframe tbody tr th {\n",
       "        vertical-align: top;\n",
       "    }\n",
       "\n",
       "    .dataframe thead th {\n",
       "        text-align: right;\n",
       "    }\n",
       "</style>\n",
       "<table border=\"1\" class=\"dataframe\">\n",
       "  <thead>\n",
       "    <tr style=\"text-align: right;\">\n",
       "      <th></th>\n",
       "      <th>scope</th>\n",
       "      <th>url</th>\n",
       "      <th>media_name</th>\n",
       "      <th>media_type</th>\n",
       "      <th>media_focus</th>\n",
       "      <th>language</th>\n",
       "      <th>domain</th>\n",
       "      <th>state_abbr</th>\n",
       "    </tr>\n",
       "  </thead>\n",
       "  <tbody>\n",
       "    <tr>\n",
       "      <th>383</th>\n",
       "      <td>Florala</td>\n",
       "      <td>http://www.smalltownpapers.com/newspapers/news...</td>\n",
       "      <td>Florala News</td>\n",
       "      <td>NP</td>\n",
       "      <td>GI</td>\n",
       "      <td>ENG</td>\n",
       "      <td>smalltownpapers.com</td>\n",
       "      <td>al</td>\n",
       "    </tr>\n",
       "    <tr>\n",
       "      <th>433</th>\n",
       "      <td>Linden</td>\n",
       "      <td>http://www.smalltownpapers.com/newspapers/news...</td>\n",
       "      <td>Democrat Reporter</td>\n",
       "      <td>NP</td>\n",
       "      <td>GI</td>\n",
       "      <td>ENG</td>\n",
       "      <td>smalltownpapers.com</td>\n",
       "      <td>al</td>\n",
       "    </tr>\n",
       "    <tr>\n",
       "      <th>502</th>\n",
       "      <td>Tuskegee</td>\n",
       "      <td>http://www.smalltownpapers.com/newspapers/news...</td>\n",
       "      <td>Tuskegee News</td>\n",
       "      <td>NP</td>\n",
       "      <td>GI</td>\n",
       "      <td>ENG</td>\n",
       "      <td>smalltownpapers.com</td>\n",
       "      <td>al</td>\n",
       "    </tr>\n",
       "    <tr>\n",
       "      <th>504</th>\n",
       "      <td>Vernon</td>\n",
       "      <td>http://www.smalltownpapers.com/newspapers/news...</td>\n",
       "      <td>Lamar Democrat and Sulligent</td>\n",
       "      <td>NP</td>\n",
       "      <td>GI</td>\n",
       "      <td>ENG</td>\n",
       "      <td>smalltownpapers.com</td>\n",
       "      <td>al</td>\n",
       "    </tr>\n",
       "    <tr>\n",
       "      <th>589</th>\n",
       "      <td>Ajo</td>\n",
       "      <td>http://www.smalltownpapers.com/newspapers/news...</td>\n",
       "      <td>Ajo Copper News</td>\n",
       "      <td>NP</td>\n",
       "      <td>GI</td>\n",
       "      <td>ENG</td>\n",
       "      <td>smalltownpapers.com</td>\n",
       "      <td>az</td>\n",
       "    </tr>\n",
       "    <tr>\n",
       "      <th>...</th>\n",
       "      <td>...</td>\n",
       "      <td>...</td>\n",
       "      <td>...</td>\n",
       "      <td>...</td>\n",
       "      <td>...</td>\n",
       "      <td>...</td>\n",
       "      <td>...</td>\n",
       "      <td>...</td>\n",
       "    </tr>\n",
       "    <tr>\n",
       "      <th>11946</th>\n",
       "      <td>Sammamish</td>\n",
       "      <td>http://www.smalltownpapers.com/newspapers/news...</td>\n",
       "      <td>Sammamish Review</td>\n",
       "      <td>NP</td>\n",
       "      <td>GI</td>\n",
       "      <td>ENG</td>\n",
       "      <td>smalltownpapers.com</td>\n",
       "      <td>wa</td>\n",
       "    </tr>\n",
       "    <tr>\n",
       "      <th>11998</th>\n",
       "      <td>Seattle (West)</td>\n",
       "      <td>http://www.smalltownpapers.com/newspapers/news...</td>\n",
       "      <td>West Seattle Herald White Center</td>\n",
       "      <td>NP</td>\n",
       "      <td>GI</td>\n",
       "      <td>ENG</td>\n",
       "      <td>smalltownpapers.com</td>\n",
       "      <td>wa</td>\n",
       "    </tr>\n",
       "    <tr>\n",
       "      <th>12003</th>\n",
       "      <td>Shelton</td>\n",
       "      <td>http://www.smalltownpapers.com/newspapers/news...</td>\n",
       "      <td>Shelton Mason County Journal</td>\n",
       "      <td>NP</td>\n",
       "      <td>GI</td>\n",
       "      <td>ENG</td>\n",
       "      <td>smalltownpapers.com</td>\n",
       "      <td>wa</td>\n",
       "    </tr>\n",
       "    <tr>\n",
       "      <th>12065</th>\n",
       "      <td>Woodinville</td>\n",
       "      <td>http://www.smalltownpapers.com/newspapers/news...</td>\n",
       "      <td>Woodinville Weekly</td>\n",
       "      <td>NP</td>\n",
       "      <td>GI</td>\n",
       "      <td>ENG</td>\n",
       "      <td>smalltownpapers.com</td>\n",
       "      <td>wa</td>\n",
       "    </tr>\n",
       "    <tr>\n",
       "      <th>12230</th>\n",
       "      <td>Blair</td>\n",
       "      <td>http://www.smalltownpapers.com/newspapers/news...</td>\n",
       "      <td>Blair Press</td>\n",
       "      <td>NP</td>\n",
       "      <td>GI</td>\n",
       "      <td>ENG</td>\n",
       "      <td>smalltownpapers.com</td>\n",
       "      <td>wi</td>\n",
       "    </tr>\n",
       "  </tbody>\n",
       "</table>\n",
       "<p>176 rows × 8 columns</p>\n",
       "</div>"
      ],
      "text/plain": [
       "                scope                                                url  \\\n",
       "383           Florala  http://www.smalltownpapers.com/newspapers/news...   \n",
       "433            Linden  http://www.smalltownpapers.com/newspapers/news...   \n",
       "502          Tuskegee  http://www.smalltownpapers.com/newspapers/news...   \n",
       "504            Vernon  http://www.smalltownpapers.com/newspapers/news...   \n",
       "589               Ajo  http://www.smalltownpapers.com/newspapers/news...   \n",
       "...               ...                                                ...   \n",
       "11946       Sammamish  http://www.smalltownpapers.com/newspapers/news...   \n",
       "11998  Seattle (West)  http://www.smalltownpapers.com/newspapers/news...   \n",
       "12003         Shelton  http://www.smalltownpapers.com/newspapers/news...   \n",
       "12065     Woodinville  http://www.smalltownpapers.com/newspapers/news...   \n",
       "12230           Blair  http://www.smalltownpapers.com/newspapers/news...   \n",
       "\n",
       "                             media_name media_type media_focus language  \\\n",
       "383                        Florala News         NP          GI      ENG   \n",
       "433                   Democrat Reporter         NP          GI      ENG   \n",
       "502                       Tuskegee News         NP          GI      ENG   \n",
       "504        Lamar Democrat and Sulligent         NP          GI      ENG   \n",
       "589                     Ajo Copper News         NP          GI      ENG   \n",
       "...                                 ...        ...         ...      ...   \n",
       "11946                  Sammamish Review         NP          GI      ENG   \n",
       "11998  West Seattle Herald White Center         NP          GI      ENG   \n",
       "12003      Shelton Mason County Journal         NP          GI      ENG   \n",
       "12065                Woodinville Weekly         NP          GI      ENG   \n",
       "12230                       Blair Press         NP          GI      ENG   \n",
       "\n",
       "                    domain state_abbr  \n",
       "383    smalltownpapers.com         al  \n",
       "433    smalltownpapers.com         al  \n",
       "502    smalltownpapers.com         al  \n",
       "504    smalltownpapers.com         al  \n",
       "589    smalltownpapers.com         az  \n",
       "...                    ...        ...  \n",
       "11946  smalltownpapers.com         wa  \n",
       "11998  smalltownpapers.com         wa  \n",
       "12003  smalltownpapers.com         wa  \n",
       "12065  smalltownpapers.com         wa  \n",
       "12230  smalltownpapers.com         wi  \n",
       "\n",
       "[176 rows x 8 columns]"
      ]
     },
     "execution_count": 154,
     "metadata": {},
     "output_type": "execute_result"
    }
   ],
   "source": [
    "abyz_df.query(\"domain == 'smalltownpapers.com'\")"
   ]
  },
  {
   "cell_type": "markdown",
   "id": "ee23a4d4-ab79-4341-9b98-17dbce3e3b2d",
   "metadata": {},
   "source": [
    "# Combined data"
   ]
  },
  {
   "cell_type": "code",
   "execution_count": 172,
   "id": "d55179d5-a8a9-4b8c-b0eb-02b2c7c6b596",
   "metadata": {},
   "outputs": [],
   "source": [
    "combined_df = pd.read_csv(\"../data/intermediate_files/cleaned_combined.csv\")"
   ]
  },
  {
   "cell_type": "code",
   "execution_count": 173,
   "id": "618e3c4b-c5d5-4980-a59a-2b3f8e7b2cec",
   "metadata": {},
   "outputs": [
    {
     "data": {
      "text/plain": [
       "20548"
      ]
     },
     "execution_count": 173,
     "metadata": {},
     "output_type": "execute_result"
    }
   ],
   "source": [
    "combined_df.domain.nunique()"
   ]
  },
  {
   "cell_type": "code",
   "execution_count": 158,
   "id": "83c18003-d09b-45c9-af56-8388bc2e2d81",
   "metadata": {},
   "outputs": [
    {
     "data": {
      "text/plain": [
       "count\n",
       "1    12224\n",
       "5     2995\n",
       "2     2148\n",
       "3     1033\n",
       "4     1001\n",
       "6      743\n",
       "7      368\n",
       "8       36\n",
       "Name: count, dtype: int64"
      ]
     },
     "execution_count": 158,
     "metadata": {},
     "output_type": "execute_result"
    }
   ],
   "source": [
    "combined_df.domain.value_counts().value_counts()"
   ]
  },
  {
   "cell_type": "code",
   "execution_count": 177,
   "id": "2d62e91f-c962-4646-9703-044ef5a0339d",
   "metadata": {},
   "outputs": [
    {
     "data": {
      "text/plain": [
       "dataset\n",
       "abyz         103\n",
       "fisher        83\n",
       "robertson     72\n",
       "mbfc           7\n",
       "newsguard      3\n",
       "hohenberg      3\n",
       "le_quere       2\n",
       "Name: count, dtype: int64"
      ]
     },
     "execution_count": 177,
     "metadata": {},
     "output_type": "execute_result"
    }
   ],
   "source": [
    "combined_df[combined_df.domain.str.endswith(\"edu\")].dataset.value_counts()"
   ]
  },
  {
   "cell_type": "code",
   "execution_count": 181,
   "id": "f306024a-46c5-4c0b-804d-5b56b6a6fac2",
   "metadata": {},
   "outputs": [
    {
     "data": {
      "text/html": [
       "<div>\n",
       "<style scoped>\n",
       "    .dataframe tbody tr th:only-of-type {\n",
       "        vertical-align: middle;\n",
       "    }\n",
       "\n",
       "    .dataframe tbody tr th {\n",
       "        vertical-align: top;\n",
       "    }\n",
       "\n",
       "    .dataframe thead th {\n",
       "        text-align: right;\n",
       "    }\n",
       "</style>\n",
       "<table border=\"1\" class=\"dataframe\">\n",
       "  <thead>\n",
       "    <tr style=\"text-align: right;\">\n",
       "      <th></th>\n",
       "      <th>domain</th>\n",
       "      <th>dataset</th>\n",
       "    </tr>\n",
       "  </thead>\n",
       "  <tbody>\n",
       "    <tr>\n",
       "      <th>35965</th>\n",
       "      <td>www.cw.ua.edu</td>\n",
       "      <td>abyz</td>\n",
       "    </tr>\n",
       "  </tbody>\n",
       "</table>\n",
       "</div>"
      ],
      "text/plain": [
       "              domain dataset\n",
       "35965  www.cw.ua.edu    abyz"
      ]
     },
     "execution_count": 181,
     "metadata": {},
     "output_type": "execute_result"
    }
   ],
   "source": [
    "combined_df.query(\"domain == 'www.cw.ua.edu'\")"
   ]
  },
  {
   "cell_type": "markdown",
   "id": "44cb9028-b730-4523-84d3-e10b1beffe98",
   "metadata": {},
   "source": [
    "# Tranco list"
   ]
  },
  {
   "cell_type": "code",
   "execution_count": 162,
   "id": "53cbc1cc-8143-4029-859f-5b7f0239140d",
   "metadata": {},
   "outputs": [],
   "source": [
    "tranco_df = pd.read_csv(\"../data/raw_data/tranco_list_20240101.csv\", names=['rank', 'domain'])"
   ]
  },
  {
   "cell_type": "code",
   "execution_count": 167,
   "id": "24ea9b35-30c6-4275-97c3-711c6a7dbb76",
   "metadata": {},
   "outputs": [],
   "source": [
    "combine_unique_df = pd.read_csv(\"../data/intermediate_files/combined_unique.csv\")"
   ]
  },
  {
   "cell_type": "code",
   "execution_count": 168,
   "id": "47e1bad9-6d34-4ab4-a10a-9f12dd491ab5",
   "metadata": {},
   "outputs": [],
   "source": [
    "domain_with_rank_df = combine_unique_df.merge(tranco_df, on='domain')"
   ]
  },
  {
   "cell_type": "code",
   "execution_count": 171,
   "id": "1da8b090-d8a5-498e-a9a2-6acf452bd909",
   "metadata": {},
   "outputs": [],
   "source": [
    "domain_with_rank_df.sort_values(by=\"rank\", inplace=True)"
   ]
  },
  {
   "cell_type": "code",
   "execution_count": null,
   "id": "ce90c797-b19c-411e-a547-47c2cc978b6c",
   "metadata": {},
   "outputs": [],
   "source": [
    "domain_with_rank_df."
   ]
  },
  {
   "cell_type": "code",
   "execution_count": 197,
   "id": "7009bff2-ef47-459c-a1da-eacc053749f6",
   "metadata": {},
   "outputs": [],
   "source": [
    "gov_edu_df = pd.read_csv(\"../data/raw_data/gov_edu_domains_to_exclude.csv\")"
   ]
  },
  {
   "cell_type": "code",
   "execution_count": 199,
   "id": "07069b4a-81f8-4686-afd8-4050f275aee0",
   "metadata": {},
   "outputs": [
    {
     "data": {
      "text/plain": [
       "domain     object\n",
       "suffix     object\n",
       "exclude      bool\n",
       "dtype: object"
      ]
     },
     "execution_count": 199,
     "metadata": {},
     "output_type": "execute_result"
    }
   ],
   "source": [
    "gov_edu_df.dtypes"
   ]
  },
  {
   "cell_type": "code",
   "execution_count": 200,
   "id": "2d18d4d9-ed29-4d77-b64b-7ee08d91c32d",
   "metadata": {},
   "outputs": [
    {
     "data": {
      "text/html": [
       "<div>\n",
       "<style scoped>\n",
       "    .dataframe tbody tr th:only-of-type {\n",
       "        vertical-align: middle;\n",
       "    }\n",
       "\n",
       "    .dataframe tbody tr th {\n",
       "        vertical-align: top;\n",
       "    }\n",
       "\n",
       "    .dataframe thead th {\n",
       "        text-align: right;\n",
       "    }\n",
       "</style>\n",
       "<table border=\"1\" class=\"dataframe\">\n",
       "  <thead>\n",
       "    <tr style=\"text-align: right;\">\n",
       "      <th></th>\n",
       "      <th>domain</th>\n",
       "      <th>suffix</th>\n",
       "      <th>exclude</th>\n",
       "    </tr>\n",
       "  </thead>\n",
       "  <tbody>\n",
       "    <tr>\n",
       "      <th>0</th>\n",
       "      <td>brookings.edu</td>\n",
       "      <td>edu</td>\n",
       "      <td>True</td>\n",
       "    </tr>\n",
       "    <tr>\n",
       "      <th>1</th>\n",
       "      <td>chop.edu</td>\n",
       "      <td>edu</td>\n",
       "      <td>True</td>\n",
       "    </tr>\n",
       "    <tr>\n",
       "      <th>3</th>\n",
       "      <td>columbia.edu</td>\n",
       "      <td>edu</td>\n",
       "      <td>True</td>\n",
       "    </tr>\n",
       "    <tr>\n",
       "      <th>4</th>\n",
       "      <td>yale.edu</td>\n",
       "      <td>edu</td>\n",
       "      <td>True</td>\n",
       "    </tr>\n",
       "    <tr>\n",
       "      <th>5</th>\n",
       "      <td>hillsdale.edu</td>\n",
       "      <td>edu</td>\n",
       "      <td>True</td>\n",
       "    </tr>\n",
       "    <tr>\n",
       "      <th>...</th>\n",
       "      <td>...</td>\n",
       "      <td>...</td>\n",
       "      <td>...</td>\n",
       "    </tr>\n",
       "    <tr>\n",
       "      <th>218</th>\n",
       "      <td>wyo.gov</td>\n",
       "      <td>gov</td>\n",
       "      <td>True</td>\n",
       "    </tr>\n",
       "    <tr>\n",
       "      <th>219</th>\n",
       "      <td>chroniclingamerica.loc.gov</td>\n",
       "      <td>gov</td>\n",
       "      <td>True</td>\n",
       "    </tr>\n",
       "    <tr>\n",
       "      <th>220</th>\n",
       "      <td>paulding.gov</td>\n",
       "      <td>gov</td>\n",
       "      <td>True</td>\n",
       "    </tr>\n",
       "    <tr>\n",
       "      <th>221</th>\n",
       "      <td>collincountytx.gov</td>\n",
       "      <td>gov</td>\n",
       "      <td>True</td>\n",
       "    </tr>\n",
       "    <tr>\n",
       "      <th>222</th>\n",
       "      <td>oneida-nsn.gov</td>\n",
       "      <td>gov</td>\n",
       "      <td>True</td>\n",
       "    </tr>\n",
       "  </tbody>\n",
       "</table>\n",
       "<p>163 rows × 3 columns</p>\n",
       "</div>"
      ],
      "text/plain": [
       "                         domain suffix  exclude\n",
       "0                 brookings.edu    edu     True\n",
       "1                      chop.edu    edu     True\n",
       "3                  columbia.edu    edu     True\n",
       "4                      yale.edu    edu     True\n",
       "5                 hillsdale.edu    edu     True\n",
       "..                          ...    ...      ...\n",
       "218                     wyo.gov    gov     True\n",
       "219  chroniclingamerica.loc.gov    gov     True\n",
       "220                paulding.gov    gov     True\n",
       "221          collincountytx.gov    gov     True\n",
       "222              oneida-nsn.gov    gov     True\n",
       "\n",
       "[163 rows x 3 columns]"
      ]
     },
     "execution_count": 200,
     "metadata": {},
     "output_type": "execute_result"
    }
   ],
   "source": [
    "gov_edu_df[gov_edu_df['exclude']]"
   ]
  },
  {
   "cell_type": "code",
   "execution_count": 201,
   "id": "b5af7bfb-b657-4551-b0cd-41ddea6e330c",
   "metadata": {},
   "outputs": [],
   "source": [
    "final_df = pd.read_csv(\"../data/output/news_domains.csv\")"
   ]
  },
  {
   "cell_type": "code",
   "execution_count": 205,
   "id": "c040aebb-7793-426c-a754-d3c38df38608",
   "metadata": {},
   "outputs": [
    {
     "data": {
      "text/html": [
       "<div>\n",
       "<style scoped>\n",
       "    .dataframe tbody tr th:only-of-type {\n",
       "        vertical-align: middle;\n",
       "    }\n",
       "\n",
       "    .dataframe tbody tr th {\n",
       "        vertical-align: top;\n",
       "    }\n",
       "\n",
       "    .dataframe thead th {\n",
       "        text-align: right;\n",
       "    }\n",
       "</style>\n",
       "<table border=\"1\" class=\"dataframe\">\n",
       "  <thead>\n",
       "    <tr style=\"text-align: right;\">\n",
       "      <th></th>\n",
       "      <th>domain</th>\n",
       "    </tr>\n",
       "  </thead>\n",
       "  <tbody>\n",
       "  </tbody>\n",
       "</table>\n",
       "</div>"
      ],
      "text/plain": [
       "Empty DataFrame\n",
       "Columns: [domain]\n",
       "Index: []"
      ]
     },
     "execution_count": 205,
     "metadata": {},
     "output_type": "execute_result"
    }
   ],
   "source": [
    "final_df[final_df.domain.str.endswith(\"gov\")]"
   ]
  },
  {
   "cell_type": "code",
   "execution_count": 207,
   "id": "20a736bd-d473-454d-9d46-c1d1f621c467",
   "metadata": {},
   "outputs": [
    {
     "data": {
      "text/html": [
       "<div>\n",
       "<style scoped>\n",
       "    .dataframe tbody tr th:only-of-type {\n",
       "        vertical-align: middle;\n",
       "    }\n",
       "\n",
       "    .dataframe tbody tr th {\n",
       "        vertical-align: top;\n",
       "    }\n",
       "\n",
       "    .dataframe thead th {\n",
       "        text-align: right;\n",
       "    }\n",
       "</style>\n",
       "<table border=\"1\" class=\"dataframe\">\n",
       "  <thead>\n",
       "    <tr style=\"text-align: right;\">\n",
       "      <th></th>\n",
       "      <th>domain</th>\n",
       "    </tr>\n",
       "  </thead>\n",
       "  <tbody>\n",
       "    <tr>\n",
       "      <th>2674</th>\n",
       "      <td>qa-www.nbcsports.com</td>\n",
       "    </tr>\n",
       "    <tr>\n",
       "      <th>12432</th>\n",
       "      <td>www1.cbn.com</td>\n",
       "    </tr>\n",
       "    <tr>\n",
       "      <th>15597</th>\n",
       "      <td>www.alabama.statenews.net</td>\n",
       "    </tr>\n",
       "    <tr>\n",
       "      <th>15665</th>\n",
       "      <td>www.cw.ua.edu</td>\n",
       "    </tr>\n",
       "    <tr>\n",
       "      <th>15710</th>\n",
       "      <td>www.arizona.statenews.net</td>\n",
       "    </tr>\n",
       "    <tr>\n",
       "      <th>...</th>\n",
       "      <td>...</td>\n",
       "    </tr>\n",
       "    <tr>\n",
       "      <th>19908</th>\n",
       "      <td>www.fairfax.daily-monitor.com</td>\n",
       "    </tr>\n",
       "    <tr>\n",
       "      <th>19924</th>\n",
       "      <td>www.loudoun.daily-monitor.com</td>\n",
       "    </tr>\n",
       "    <tr>\n",
       "      <th>19961</th>\n",
       "      <td>www.winchester.daily-monitor.com</td>\n",
       "    </tr>\n",
       "    <tr>\n",
       "      <th>19966</th>\n",
       "      <td>www.washington.statenews.net</td>\n",
       "    </tr>\n",
       "    <tr>\n",
       "      <th>20076</th>\n",
       "      <td>www2.dioceseofspokane.org</td>\n",
       "    </tr>\n",
       "  </tbody>\n",
       "</table>\n",
       "<p>78 rows × 1 columns</p>\n",
       "</div>"
      ],
      "text/plain": [
       "                                 domain\n",
       "2674               qa-www.nbcsports.com\n",
       "12432                      www1.cbn.com\n",
       "15597         www.alabama.statenews.net\n",
       "15665                     www.cw.ua.edu\n",
       "15710         www.arizona.statenews.net\n",
       "...                                 ...\n",
       "19908     www.fairfax.daily-monitor.com\n",
       "19924     www.loudoun.daily-monitor.com\n",
       "19961  www.winchester.daily-monitor.com\n",
       "19966      www.washington.statenews.net\n",
       "20076         www2.dioceseofspokane.org\n",
       "\n",
       "[78 rows x 1 columns]"
      ]
     },
     "execution_count": 207,
     "metadata": {},
     "output_type": "execute_result"
    }
   ],
   "source": [
    "final_df[final_df.domain.str.contains(\"www\")]"
   ]
  },
  {
   "cell_type": "markdown",
   "id": "a8d890cb-7622-465e-9754-d6a1b28b8e41",
   "metadata": {},
   "source": [
    "# Media cloud"
   ]
  },
  {
   "cell_type": "code",
   "execution_count": 4,
   "id": "34f41501-5313-473b-b34b-ba3dc2a52a26",
   "metadata": {},
   "outputs": [],
   "source": [
    "media_cloud_df_raw = pd.read_parquet(\"../data/raw_data/media_cloud_us_sources_20250326.parquet\")"
   ]
  },
  {
   "cell_type": "code",
   "execution_count": 5,
   "id": "1f30c015-5431-4f27-bd61-7b59cfa86a7a",
   "metadata": {},
   "outputs": [],
   "source": [
    "media_cloud_df = media_cloud_df_raw[['name']].copy()"
   ]
  },
  {
   "cell_type": "code",
   "execution_count": 7,
   "id": "6f2fb46c-1f0b-4ba2-bb10-df546b1583a9",
   "metadata": {},
   "outputs": [],
   "source": [
    "media_cloud_df.rename(columns={\"name\": \"domain\"}, inplace=True)"
   ]
  },
  {
   "cell_type": "code",
   "execution_count": 9,
   "id": "ee1d63d8-f6e7-46cd-8ce5-aa52f9b3a652",
   "metadata": {},
   "outputs": [
    {
     "data": {
      "text/html": [
       "<div>\n",
       "<style scoped>\n",
       "    .dataframe tbody tr th:only-of-type {\n",
       "        vertical-align: middle;\n",
       "    }\n",
       "\n",
       "    .dataframe tbody tr th {\n",
       "        vertical-align: top;\n",
       "    }\n",
       "\n",
       "    .dataframe thead th {\n",
       "        text-align: right;\n",
       "    }\n",
       "</style>\n",
       "<table border=\"1\" class=\"dataframe\">\n",
       "  <thead>\n",
       "    <tr style=\"text-align: right;\">\n",
       "      <th></th>\n",
       "      <th>domain</th>\n",
       "    </tr>\n",
       "  </thead>\n",
       "  <tbody>\n",
       "  </tbody>\n",
       "</table>\n",
       "</div>"
      ],
      "text/plain": [
       "Empty DataFrame\n",
       "Columns: [domain]\n",
       "Index: []"
      ]
     },
     "execution_count": 9,
     "metadata": {},
     "output_type": "execute_result"
    }
   ],
   "source": [
    "media_cloud_df[media_cloud_df.domain.isna()]"
   ]
  },
  {
   "cell_type": "code",
   "execution_count": 11,
   "id": "62c06070-06f7-45d7-acb7-1048cb9bc216",
   "metadata": {},
   "outputs": [],
   "source": [
    "media_cloud_df['domain'] = media_cloud_df['domain'].str.lower()"
   ]
  },
  {
   "cell_type": "code",
   "execution_count": 12,
   "id": "b17c093c-26b6-4796-8e18-2e2aa383ded9",
   "metadata": {},
   "outputs": [
    {
     "data": {
      "text/html": [
       "<div>\n",
       "<style scoped>\n",
       "    .dataframe tbody tr th:only-of-type {\n",
       "        vertical-align: middle;\n",
       "    }\n",
       "\n",
       "    .dataframe tbody tr th {\n",
       "        vertical-align: top;\n",
       "    }\n",
       "\n",
       "    .dataframe thead th {\n",
       "        text-align: right;\n",
       "    }\n",
       "</style>\n",
       "<table border=\"1\" class=\"dataframe\">\n",
       "  <thead>\n",
       "    <tr style=\"text-align: right;\">\n",
       "      <th></th>\n",
       "      <th>domain</th>\n",
       "    </tr>\n",
       "  </thead>\n",
       "  <tbody>\n",
       "  </tbody>\n",
       "</table>\n",
       "</div>"
      ],
      "text/plain": [
       "Empty DataFrame\n",
       "Columns: [domain]\n",
       "Index: []"
      ]
     },
     "execution_count": 12,
     "metadata": {},
     "output_type": "execute_result"
    }
   ],
   "source": [
    "media_cloud_df[media_cloud_df.domain.str.contains(\"/\")]"
   ]
  },
  {
   "cell_type": "code",
   "execution_count": 13,
   "id": "218c91ad-ee4f-40c2-b809-53996bc32c1f",
   "metadata": {},
   "outputs": [
    {
     "data": {
      "text/plain": [
       "27642"
      ]
     },
     "execution_count": 13,
     "metadata": {},
     "output_type": "execute_result"
    }
   ],
   "source": [
    "len(media_cloud_df)"
   ]
  },
  {
   "cell_type": "code",
   "execution_count": 14,
   "id": "6508ce3f-15a7-4345-af26-0b20cf41e84f",
   "metadata": {},
   "outputs": [],
   "source": [
    "media_cloud_df.drop_duplicates(inplace=True)"
   ]
  },
  {
   "cell_type": "code",
   "execution_count": 15,
   "id": "f7d901f3-4b72-47dd-9765-30e656c57d95",
   "metadata": {},
   "outputs": [
    {
     "data": {
      "text/plain": [
       "9924"
      ]
     },
     "execution_count": 15,
     "metadata": {},
     "output_type": "execute_result"
    }
   ],
   "source": [
    "len(media_cloud_df)"
   ]
  },
  {
   "cell_type": "code",
   "execution_count": 16,
   "id": "289d0da8-7b04-4b37-b91b-9aeb210d9814",
   "metadata": {},
   "outputs": [],
   "source": [
    "gov_edu_domain_to_exclude_df = pd.read_csv(\"../data/raw_data/gov_edu_domains_to_exclude.csv\")"
   ]
  },
  {
   "cell_type": "code",
   "execution_count": 24,
   "id": "477ccd18-ad0c-48a7-bba3-d180cccb6dac",
   "metadata": {},
   "outputs": [],
   "source": [
    "gov_edu_domains_dup = gov_edu_domain_to_exclude_df[['domain', 'exclude']].dropna().drop_duplicates()"
   ]
  },
  {
   "cell_type": "code",
   "execution_count": 27,
   "id": "df209712-adec-4b9c-93bc-93cf1efddef1",
   "metadata": {},
   "outputs": [
    {
     "data": {
      "text/plain": [
       "count\n",
       "1    270\n",
       "Name: count, dtype: int64"
      ]
     },
     "execution_count": 27,
     "metadata": {},
     "output_type": "execute_result"
    }
   ],
   "source": [
    "gov_edu_domains_dup.domain.value_counts().value_counts()"
   ]
  }
 ],
 "metadata": {
  "kernelspec": {
   "display_name": "Python 3 (ipykernel)",
   "language": "python",
   "name": "python3"
  },
  "language_info": {
   "codemirror_mode": {
    "name": "ipython",
    "version": 3
   },
   "file_extension": ".py",
   "mimetype": "text/x-python",
   "name": "python",
   "nbconvert_exporter": "python",
   "pygments_lexer": "ipython3",
   "version": "3.12.9"
  }
 },
 "nbformat": 4,
 "nbformat_minor": 5
}
